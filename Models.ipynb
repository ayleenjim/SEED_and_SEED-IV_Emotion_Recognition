{
  "cells": [
    {
      "cell_type": "markdown",
      "metadata": {
        "id": "cBrAwmpz3ZjB"
      },
      "source": [
        "# EEG Classification Notebook\n"
      ]
    },
    {
      "cell_type": "markdown",
      "metadata": {
        "id": "FyIT6Er83eqi"
      },
      "source": [
        "## Imports and Loading Data"
      ]
    },
    {
      "cell_type": "code",
      "execution_count": 6,
      "metadata": {
        "colab": {
          "base_uri": "https://localhost:8080/"
        },
        "id": "P_5ZWr1tO4rn",
        "outputId": "b947241f-4b72-4ab4-807d-45bd91dbab98"
      },
      "outputs": [
        {
          "name": "stdout",
          "output_type": "stream",
          "text": [
            "Requirement already satisfied: keras-tuner in c:\\users\\drl782\\.conda\\envs\\ppbemo\\lib\\site-packages (1.4.7)\n",
            "Requirement already satisfied: packaging in c:\\users\\drl782\\.conda\\envs\\ppbemo\\lib\\site-packages (from keras-tuner) (21.3)\n",
            "Requirement already satisfied: requests in c:\\users\\drl782\\.conda\\envs\\ppbemo\\lib\\site-packages (from keras-tuner) (2.27.1)\n",
            "Requirement already satisfied: keras in c:\\users\\drl782\\.conda\\envs\\ppbemo\\lib\\site-packages (from keras-tuner) (2.6.0)\n",
            "Requirement already satisfied: kt-legacy in c:\\users\\drl782\\.conda\\envs\\ppbemo\\lib\\site-packages (from keras-tuner) (1.0.5)\n",
            "Requirement already satisfied: pyparsing!=3.0.5,>=2.0.2 in c:\\users\\drl782\\.conda\\envs\\ppbemo\\lib\\site-packages (from packaging->keras-tuner) (3.1.4)\n",
            "Requirement already satisfied: idna<4,>=2.5 in c:\\users\\drl782\\.conda\\envs\\ppbemo\\lib\\site-packages (from requests->keras-tuner) (3.10)\n",
            "Requirement already satisfied: charset-normalizer~=2.0.0 in c:\\users\\drl782\\.conda\\envs\\ppbemo\\lib\\site-packages (from requests->keras-tuner) (2.0.12)\n",
            "Requirement already satisfied: certifi>=2017.4.17 in c:\\users\\drl782\\.conda\\envs\\ppbemo\\lib\\site-packages (from requests->keras-tuner) (2021.5.30)\n",
            "Requirement already satisfied: urllib3<1.27,>=1.21.1 in c:\\users\\drl782\\.conda\\envs\\ppbemo\\lib\\site-packages (from requests->keras-tuner) (1.26.20)\n",
            "Requirement already satisfied: mat73 in c:\\users\\drl782\\.conda\\envs\\ppbemo\\lib\\site-packages (0.65)\n",
            "Requirement already satisfied: h5py in c:\\users\\drl782\\.conda\\envs\\ppbemo\\lib\\site-packages (from mat73) (3.1.0)\n",
            "Requirement already satisfied: numpy in c:\\users\\drl782\\.conda\\envs\\ppbemo\\lib\\site-packages (from mat73) (1.19.5)\n",
            "Requirement already satisfied: cached-property in c:\\users\\drl782\\.conda\\envs\\ppbemo\\lib\\site-packages (from h5py->mat73) (1.5.2)\n",
            "Requirement already satisfied: tensorflow-addons in c:\\users\\drl782\\.conda\\envs\\ppbemo\\lib\\site-packages (0.14.0)\n",
            "Requirement already satisfied: typeguard>=2.7 in c:\\users\\drl782\\.conda\\envs\\ppbemo\\lib\\site-packages (from tensorflow-addons) (2.13.3)\n"
          ]
        }
      ],
      "source": [
        "!pip install keras-tuner\n",
        "!pip install mat73\n",
        "!pip install -U tensorflow-addons\n",
        "#from google.colab import drive\n",
        "#drive.mount('/content/drive')\n",
        "import tensorflow as tf\n",
        "from tensorflow import keras\n",
        "import numpy as np\n",
        "import scipy.io as sio\n",
        "from tensorflow.keras.utils import to_categorical\n",
        "import mat73\n",
        "from keras.callbacks import ReduceLROnPlateau\n",
        "import sklearn.metrics\n",
        "from sklearn.utils import shuffle \n",
        "from tensorflow.keras import layers\n",
        "import tensorflow_addons as tfa\n",
        "from tensorflow.keras.layers import LSTM\n",
        "from tensorflow.keras.layers import Reshape\n",
        "from tensorflow.keras.models import Sequential\n",
        "from tensorflow.keras.layers import Conv2D, MaxPooling2D, Dense, Flatten, Dropout, Conv3D, MaxPooling3D, BatchNormalization\n",
        "import matplotlib.pyplot as plt\n",
        "%matplotlib inline "
      ]
    },
    {
      "cell_type": "code",
      "execution_count": 7,
      "metadata": {
        "id": "gy1WNR5zPNmG"
      },
      "outputs": [],
      "source": [
        "# extracted features that we corrected\n",
        "mat_file = sio.loadmat('ExtractedFeatures_1s/data.mat')\n",
        "\n",
        "# load labels to check accuracy\n",
        "mat_file_labels = sio.loadmat('ExtractedFeatures_1s/label.mat')\n",
        "count = 0\n",
        "accuracy = []"
      ]
    },
    {
      "cell_type": "code",
      "execution_count": 8,
      "metadata": {
        "id": "PGTVwBOzBvA6"
      },
      "outputs": [],
      "source": [
        "data = mat_file['data']\n",
        "labels = mat_file_labels['label']\n",
        "\n",
        "# replicate labels for the 45 total experiments\n",
        "labels = labels[0]\n",
        "labels_edited = np.empty(675) #for every subject*experiment*trial\n",
        "for i in range(0,45):\n",
        "  labels_edited[i*15:(i+1)*15] = labels\n",
        "\n",
        "data, labels_edited = shuffle(data, labels_edited)"
      ]
    },
    {
      "cell_type": "code",
      "execution_count": 9,
      "metadata": {
        "id": "2MZ0tjXTOPHB"
      },
      "outputs": [],
      "source": [
        "cumul = []\n",
        "for i in range(4): cumul.append([])"
      ]
    },
    {
      "cell_type": "code",
      "execution_count": 10,
      "metadata": {
        "colab": {
          "base_uri": "https://localhost:8080/"
        },
        "id": "c-PuMrXlRgFS",
        "outputId": "abdab869-335b-43cb-c3c2-13b5b15fd645"
      },
      "outputs": [
        {
          "name": "stdout",
          "output_type": "stream",
          "text": [
            "Unique: [0. 1. 2.], Counts: [31 24 20]\n",
            "(550, 62, 250, 5) (550, 1250, 62)\n"
          ]
        }
      ],
      "source": [
        "max = np.max(data)\n",
        "min = np.min(data)\n",
        "\n",
        "#Normalizing data\n",
        "data = data/max\n",
        "data = (data - np.mean(data))/np.std(data)\n",
        "\n",
        "#Cropping end time segments\n",
        "data = data[:,:,0:250,:]\n",
        "\n",
        "#Splitting Dataset into train, validation, test \n",
        "train_labels = labels_edited[0:550]\n",
        "test_labels = labels_edited[550:600]\n",
        "train_data = data[0:550]\n",
        "test_data = data[550:600]\n",
        "final_test = data[600:675]\n",
        "final_labels = labels_edited[600:675]\n",
        "cf_labels = np.where(final_labels== -1, 2, final_labels) #Label in the form for confusion matrix\n",
        "un, co = np.unique(cf_labels, return_counts=True)\n",
        "print(f'Unique: {un}, Counts: {co}')\n",
        "\n",
        "train_labels_reshaped = train_labels.reshape(-1,1) #Formatting for input to the CNN model\n",
        "test_labels_reshaped = test_labels.reshape(-1,1)\n",
        "final_labels_reshaped = final_labels.reshape(-1,1)\n",
        "\n",
        "train_labels_reshaped = to_categorical(train_labels_reshaped, 3) #One Hot Encoding\n",
        "test_labels_reshaped = to_categorical(test_labels_reshaped, 3)\n",
        "final_labels_reshaped = to_categorical(final_labels_reshaped, 3)\n",
        "\n",
        "rnn_train = train_data.reshape(550, 62, -1) #Formatting for RNN input\n",
        "rnn_test = test_data.reshape(50, 62, -1)\n",
        "rnn_train = np.transpose(rnn_train, (0,2,1))\n",
        "rnn_test = np.transpose(rnn_test, (0,2,1))\n",
        "print(train_data.shape, rnn_train.shape)"
      ]
    },
    {
      "cell_type": "code",
      "execution_count": 11,
      "metadata": {
        "colab": {
          "base_uri": "https://localhost:8080/",
          "height": 622
        },
        "id": "tLU2CkVgH6bq",
        "outputId": "c1fabc4d-be21-4fa1-9a3d-eba5cdd1b10d"
      },
      "outputs": [
        {
          "data": {
            "image/png": "[encoded data removed]",
            "text/plain": [
              "<Figure size 1080x720 with 5 Axes>"
            ]
          },
          "metadata": {
            "needs_background": "light"
          },
          "output_type": "display_data"
        }
      ],
      "source": [
        "fig, a = plt.subplots(5, 1, squeeze= False, figsize= (15, 10))\n",
        "titles = ['Alpha', 'Beta', 'Delta', 'Gamma', 'Theta']\n",
        "for cnt in range(5):\n",
        "  for i in range(len(test_data[5])):\n",
        "    a[cnt][0].plot(range(len(test_data[5][i,:,cnt])), test_data[5][i,:,cnt])\n",
        "  a[cnt][0].set_title(titles[cnt])\n",
        "  a[cnt][0].set_xlabel('Samples')\n",
        "  a[cnt][0].set_ylabel('Amplitude')"
      ]
    },
    {
      "cell_type": "markdown",
      "metadata": {
        "id": "LYoIqA8r5h1l"
      },
      "source": [
        "## Model Definitions"
      ]
    },
    {
      "cell_type": "markdown",
      "metadata": {
        "id": "k_GPwXD_3tHy"
      },
      "source": [
        "#### CNN Model\n"
      ]
    },
    {
      "cell_type": "code",
      "execution_count": 12,
      "metadata": {
        "colab": {
          "base_uri": "https://localhost:8080/"
        },
        "id": "mtZ1OV39dCnb",
        "outputId": "365831d9-ea80-46cd-9649-a4ab880b75ba"
      },
      "outputs": [
        {
          "name": "stdout",
          "output_type": "stream",
          "text": [
            "Model: \"sequential\"\n",
            "_________________________________________________________________\n",
            "Layer (type)                 Output Shape              Param #   \n",
            "=================================================================\n",
            "conv2d (Conv2D)              (None, 62, 250, 64)       8064      \n",
            "_________________________________________________________________\n",
            "conv2d_1 (Conv2D)            (None, 62, 250, 64)       36928     \n",
            "_________________________________________________________________\n",
            "conv2d_2 (Conv2D)            (None, 62, 250, 64)       36928     \n",
            "_________________________________________________________________\n",
            "max_pooling2d (MaxPooling2D) (None, 31, 125, 64)       0         \n",
            "_________________________________________________________________\n",
            "dropout (Dropout)            (None, 31, 125, 64)       0         \n",
            "_________________________________________________________________\n",
            "conv2d_3 (Conv2D)            (None, 31, 125, 128)      73856     \n",
            "_________________________________________________________________\n",
            "conv2d_4 (Conv2D)            (None, 31, 125, 128)      147584    \n",
            "_________________________________________________________________\n",
            "max_pooling2d_1 (MaxPooling2 (None, 15, 62, 128)       0         \n",
            "_________________________________________________________________\n",
            "dropout_1 (Dropout)          (None, 15, 62, 128)       0         \n",
            "_________________________________________________________________\n",
            "conv2d_5 (Conv2D)            (None, 15, 62, 256)       295168    \n",
            "_________________________________________________________________\n",
            "max_pooling2d_2 (MaxPooling2 (None, 7, 31, 256)        0         \n",
            "_________________________________________________________________\n",
            "dropout_2 (Dropout)          (None, 7, 31, 256)        0         \n",
            "_________________________________________________________________\n",
            "conv2d_6 (Conv2D)            (None, 7, 31, 512)        1180160   \n",
            "_________________________________________________________________\n",
            "max_pooling2d_3 (MaxPooling2 (None, 3, 15, 512)        0         \n",
            "_________________________________________________________________\n",
            "dropout_3 (Dropout)          (None, 3, 15, 512)        0         \n",
            "_________________________________________________________________\n",
            "flatten (Flatten)            (None, 23040)             0         \n",
            "_________________________________________________________________\n",
            "dense (Dense)                (None, 512)               11796992  \n",
            "_________________________________________________________________\n",
            "dropout_4 (Dropout)          (None, 512)               0         \n",
            "_________________________________________________________________\n",
            "dense_1 (Dense)              (None, 256)               131328    \n",
            "_________________________________________________________________\n",
            "dropout_5 (Dropout)          (None, 256)               0         \n",
            "_________________________________________________________________\n",
            "dense_2 (Dense)              (None, 64)                16448     \n",
            "_________________________________________________________________\n",
            "dense_3 (Dense)              (None, 3)                 195       \n",
            "=================================================================\n",
            "Total params: 13,723,651\n",
            "Trainable params: 13,723,651\n",
            "Non-trainable params: 0\n",
            "_________________________________________________________________\n"
          ]
        }
      ],
      "source": [
        "#Defining our CNN Model \n",
        "\n",
        "model = Sequential([\n",
        "  Conv2D(filters= 64, kernel_size= 5, input_shape = (62,250,5), padding= 'same'), \n",
        "  Conv2D(filters= 64, kernel_size= 3, padding= 'same'),\n",
        "  Conv2D(filters= 64, kernel_size= 3, padding= 'same'),\n",
        "  MaxPooling2D(pool_size= 2,strides = 2),\n",
        "  \n",
        "  Dropout(rate= 0.3),\n",
        "  Conv2D(filters= 128, kernel_size= 3, padding= 'same'), \n",
        "  Conv2D(filters= 128, kernel_size= 3, padding= 'same'),\n",
        "  MaxPooling2D(pool_size= 2, strides = 2),\n",
        "  \n",
        "  Dropout(rate= 0.2),\n",
        "\n",
        "  Conv2D(filters= 256, kernel_size= 3, padding= 'same'),\n",
        "  MaxPooling2D(pool_size= 2, strides = 2),\n",
        "  \n",
        "  Dropout(rate= 0.25),\n",
        "\n",
        "  Conv2D(filters= 512, kernel_size= 3, padding= 'same'),\n",
        "  MaxPooling2D(pool_size= 2, strides= 2),\n",
        "  \n",
        "  Dropout(rate= 0.3),\n",
        "  \n",
        "  Flatten(),\n",
        "\n",
        "  Dense(512, activation= 'relu'),\n",
        "  \n",
        "  Dropout(rate= 0.4),\n",
        "  Dense(256, activation= 'relu'),\n",
        "  \n",
        "  Dropout(rate= 0.2),\n",
        "  Dense(64, activation= 'relu'),\n",
        "  \n",
        "  # softmax activation, convert final layer to probability distributions of the 3 emotional categories \n",
        "  Dense(3, activation= 'softmax')\n",
        "])\n",
        "\n",
        "# apply optimizer and categorical cross entropy loss function. measure accuracy of predictions, uses RMSE for insight on error magnitude\n",
        "model.compile(optimizer= keras.optimizers.Adam(learning_rate=9e-5), loss= keras.losses.categorical_crossentropy, metrics= ['accuracy', tf.keras.metrics.RootMeanSquaredError()])\n",
        "model.summary()"
      ]
    },
    {
      "cell_type": "markdown",
      "metadata": {
        "id": "RXR6yIkP3yQT"
      },
      "source": [
        "#### RNN Model"
      ]
    },
    {
      "cell_type": "code",
      "execution_count": 13,
      "metadata": {
        "colab": {
          "base_uri": "https://localhost:8080/"
        },
        "id": "MAO-_lk-6sY2",
        "outputId": "6bd1a88d-1a84-4104-dcc4-47e5afeacaf2"
      },
      "outputs": [
        {
          "name": "stdout",
          "output_type": "stream",
          "text": [
            "Model: \"sequential_1\"\n",
            "_________________________________________________________________\n",
            "Layer (type)                 Output Shape              Param #   \n",
            "=================================================================\n",
            "lstm (LSTM)                  (None, 1250, 64)          32512     \n",
            "_________________________________________________________________\n",
            "dropout_6 (Dropout)          (None, 1250, 64)          0         \n",
            "_________________________________________________________________\n",
            "lstm_1 (LSTM)                (None, 1250, 128)         98816     \n",
            "_________________________________________________________________\n",
            "dropout_7 (Dropout)          (None, 1250, 128)         0         \n",
            "_________________________________________________________________\n",
            "lstm_2 (LSTM)                (None, 1250, 128)         131584    \n",
            "_________________________________________________________________\n",
            "dropout_8 (Dropout)          (None, 1250, 128)         0         \n",
            "_________________________________________________________________\n",
            "lstm_3 (LSTM)                (None, 1250, 256)         394240    \n",
            "_________________________________________________________________\n",
            "flatten_1 (Flatten)          (None, 320000)            0         \n",
            "_________________________________________________________________\n",
            "dense_4 (Dense)              (None, 256)               81920256  \n",
            "_________________________________________________________________\n",
            "dropout_9 (Dropout)          (None, 256)               0         \n",
            "_________________________________________________________________\n",
            "dense_5 (Dense)              (None, 128)               32896     \n",
            "_________________________________________________________________\n",
            "dropout_10 (Dropout)         (None, 128)               0         \n",
            "_________________________________________________________________\n",
            "dense_6 (Dense)              (None, 64)                8256      \n",
            "_________________________________________________________________\n",
            "dense_7 (Dense)              (None, 3)                 195       \n",
            "=================================================================\n",
            "Total params: 82,618,755\n",
            "Trainable params: 82,618,755\n",
            "Non-trainable params: 0\n",
            "_________________________________________________________________\n"
          ]
        }
      ],
      "source": [
        "#Defining our RNN model \n",
        "\n",
        "model_rnn = Sequential([\n",
        "  LSTM(units= 64, activation= 'tanh', input_shape= [1250, 62], return_sequences = True),\n",
        "  Dropout(0.25),\n",
        "  LSTM(units= 128, activation= 'tanh', return_sequences = True),\n",
        "  Dropout(0.3),\n",
        "  LSTM(units= 128, activation= 'tanh', return_sequences = True),\n",
        "  Dropout(0.35),\n",
        "  LSTM(units= 256, activation= 'tanh', return_sequences = True),\n",
        "  Flatten(),\n",
        "\n",
        "  Dense(256, activation= 'relu'),\n",
        "  Dropout(0.25),\n",
        "  Dense(128, activation= 'relu'),\n",
        "  Dropout(0.35),\n",
        "  Dense(64, activation= 'relu'),\n",
        "  Dense(3, activation= 'softmax'),\n",
        "\n",
        "])\n",
        "\n",
        "model_rnn.compile(optimizer= keras.optimizers.Adam(learning_rate=5e-5), loss= keras.losses.categorical_crossentropy, metrics= ['accuracy', tf.keras.metrics.RootMeanSquaredError()])\n",
        "model_rnn.summary()"
      ]
    },
    {
      "cell_type": "markdown",
      "metadata": {
        "id": "g-6lf5XI33cn"
      },
      "source": [
        "#### Hybrid Model"
      ]
    },
    {
      "cell_type": "code",
      "execution_count": 14,
      "metadata": {
        "colab": {
          "base_uri": "https://localhost:8080/"
        },
        "id": "-Ere0cwdP0Dy",
        "outputId": "82a0a424-e142-459b-b8ee-aa12191760ed"
      },
      "outputs": [
        {
          "name": "stdout",
          "output_type": "stream",
          "text": [
            "Model: \"sequential_2\"\n",
            "_________________________________________________________________\n",
            "Layer (type)                 Output Shape              Param #   \n",
            "=================================================================\n",
            "conv2d_7 (Conv2D)            (None, 62, 250, 64)       2944      \n",
            "_________________________________________________________________\n",
            "conv2d_8 (Conv2D)            (None, 62, 250, 128)      73856     \n",
            "_________________________________________________________________\n",
            "conv2d_9 (Conv2D)            (None, 62, 250, 128)      147584    \n",
            "_________________________________________________________________\n",
            "max_pooling2d_4 (MaxPooling2 (None, 31, 125, 128)      0         \n",
            "_________________________________________________________________\n",
            "batch_normalization (BatchNo (None, 31, 125, 128)      512       \n",
            "_________________________________________________________________\n",
            "conv2d_10 (Conv2D)           (None, 31, 125, 256)      295168    \n",
            "_________________________________________________________________\n",
            "conv2d_11 (Conv2D)           (None, 31, 125, 256)      590080    \n",
            "_________________________________________________________________\n",
            "max_pooling2d_5 (MaxPooling2 (None, 15, 62, 256)       0         \n",
            "_________________________________________________________________\n",
            "batch_normalization_1 (Batch (None, 15, 62, 256)       1024      \n",
            "_________________________________________________________________\n",
            "conv2d_12 (Conv2D)           (None, 15, 62, 512)       1180160   \n",
            "_________________________________________________________________\n",
            "batch_normalization_2 (Batch (None, 15, 62, 512)       2048      \n",
            "_________________________________________________________________\n",
            "reshape (Reshape)            (None, 62, 7680)          0         \n",
            "_________________________________________________________________\n",
            "lstm_4 (LSTM)                (None, 62, 128)           3998208   \n",
            "_________________________________________________________________\n",
            "batch_normalization_3 (Batch (None, 62, 128)           512       \n",
            "_________________________________________________________________\n",
            "lstm_5 (LSTM)                (None, 62, 256)           394240    \n",
            "_________________________________________________________________\n",
            "batch_normalization_4 (Batch (None, 62, 256)           1024      \n",
            "_________________________________________________________________\n",
            "lstm_6 (LSTM)                (None, 62, 256)           525312    \n",
            "_________________________________________________________________\n",
            "batch_normalization_5 (Batch (None, 62, 256)           1024      \n",
            "_________________________________________________________________\n",
            "lstm_7 (LSTM)                (None, 62, 512)           1574912   \n",
            "_________________________________________________________________\n",
            "batch_normalization_6 (Batch (None, 62, 512)           2048      \n",
            "_________________________________________________________________\n",
            "flatten_2 (Flatten)          (None, 31744)             0         \n",
            "_________________________________________________________________\n",
            "dense_8 (Dense)              (None, 512)               16253440  \n",
            "_________________________________________________________________\n",
            "dropout_11 (Dropout)         (None, 512)               0         \n",
            "_________________________________________________________________\n",
            "dense_9 (Dense)              (None, 256)               131328    \n",
            "_________________________________________________________________\n",
            "dropout_12 (Dropout)         (None, 256)               0         \n",
            "_________________________________________________________________\n",
            "dense_10 (Dense)             (None, 64)                16448     \n",
            "_________________________________________________________________\n",
            "dense_11 (Dense)             (None, 3)                 195       \n",
            "=================================================================\n",
            "Total params: 25,192,067\n",
            "Trainable params: 25,187,971\n",
            "Non-trainable params: 4,096\n",
            "_________________________________________________________________\n"
          ]
        }
      ],
      "source": [
        "#Defining our Hybrid model \n",
        "\n",
        "model_hybrid = Sequential([\n",
        "  Conv2D(filters= 64, kernel_size= 3, input_shape = (62,250,5), padding= 'same'), \n",
        "  Conv2D(filters= 128, kernel_size= 3, padding= 'same'),\n",
        "  Conv2D(filters= 128, kernel_size= 3, padding= 'same'),\n",
        "  MaxPooling2D(pool_size= 2,strides = 2),\n",
        "  BatchNormalization(),\n",
        "\n",
        "  Conv2D(filters= 256, kernel_size= 3, padding= 'same'), \n",
        "  Conv2D(filters= 256, kernel_size= 3, padding= 'same'),\n",
        "  MaxPooling2D(pool_size= 2, strides = 2),\n",
        "  BatchNormalization(),\n",
        "\n",
        "  Conv2D(filters= 512, kernel_size= 3, padding= 'same'), \n",
        "  BatchNormalization(),\n",
        "\n",
        "  Reshape((62, 15*512), input_shape= (15, 62, 512)), #Important to reshape so data passed to LSTM Layer correctly\n",
        "  \n",
        "  LSTM(units= 128, activation= 'tanh', return_sequences = True),\n",
        "  BatchNormalization(),\n",
        "  LSTM(units= 256, activation= 'tanh', return_sequences = True),\n",
        "  BatchNormalization(),\n",
        "  LSTM(units= 256, activation= 'tanh', return_sequences = True),\n",
        "  BatchNormalization(),\n",
        "  LSTM(units= 512, activation= 'tanh', return_sequences = True),\n",
        "  BatchNormalization(),\n",
        "  \n",
        "  Flatten(),\n",
        "  \n",
        "  Dense(512, activation= 'relu'), \n",
        "  Dropout(0.25), \n",
        "  Dense(256, activation= 'relu'),\n",
        "  Dropout(0.2),\n",
        "  Dense(64, activation= 'relu'),\n",
        "  Dense(3, activation= 'softmax')\n",
        "])\n",
        "\n",
        "model_hybrid.compile(optimizer= keras.optimizers.Adam(learning_rate=1e-4), loss= keras.losses.categorical_crossentropy, metrics= ['accuracy', tf.keras.metrics.RootMeanSquaredError()])\n",
        "model_hybrid.summary()"
      ]
    },
    {
      "cell_type": "markdown",
      "metadata": {
        "id": "MGZztDn4A8Yk"
      },
      "source": [
        "#### ViT Classifier Modified"
      ]
    },
    {
      "cell_type": "code",
      "execution_count": 15,
      "metadata": {
        "id": "QP0GXP5QA_vB"
      },
      "outputs": [],
      "source": [
        "learning_rate = 1e-3 #1e-3\n",
        "#weight_decay = 0.0001\n",
        "batch_size = 128 #128\n",
        "num_epochs = 150\n",
        "image_size = [15, 15]  # We'll resize input images to this size\n",
        "patch_size = 3  # Size of the patches to be extract from the input images\n",
        "num_patches = (image_size[0] // patch_size) * (image_size[1] // patch_size)\n",
        "projection_dim = 64\n",
        "num_heads = 8\n",
        "transformer_units = [\n",
        "    projection_dim * 2,\n",
        "    projection_dim,\n",
        "]  # Size of the transformer layers\n",
        "transformer_layers = 8 #8\n",
        "mlp_head_units = [2048, 1024]  # Size of the dense layers of the final classifier\n",
        "input_shape = (15, 15, 128)\n",
        "num_classes= 3"
      ]
    },
    {
      "cell_type": "code",
      "execution_count": 16,
      "metadata": {
        "id": "haxBMSJHNf-F"
      },
      "outputs": [],
      "source": [
        "def mlp(x, hidden_units, dropout_rate):\n",
        "    for units in hidden_units:\n",
        "        x = layers.Dense(units, activation=tf.nn.gelu)(x)\n",
        "        x = layers.Dropout(dropout_rate)(x)\n",
        "    return x\n",
        "\n",
        "class Patches(layers.Layer):\n",
        "    def __init__(self, patch_size):\n",
        "        super(Patches, self).__init__()\n",
        "        self.patch_size = patch_size\n",
        "\n",
        "    def call(self, images):\n",
        "        batch_size = tf.shape(images)[0]\n",
        "        patches = tf.image.extract_patches(\n",
        "            images=images,\n",
        "            sizes=[1, self.patch_size, self.patch_size, 1],\n",
        "            strides=[1, self.patch_size, self.patch_size, 1],\n",
        "            rates=[1, 1, 1, 1],\n",
        "            padding=\"VALID\",\n",
        "        )\n",
        "        patch_dims = patches.shape[-1]\n",
        "        patches = tf.reshape(patches, [batch_size, -1, patch_dims])\n",
        "        return patches\n",
        "\n",
        "class PatchEncoder(layers.Layer):\n",
        "    def __init__(self, num_patches, projection_dim):\n",
        "        super(PatchEncoder, self).__init__()\n",
        "        self.num_patches = num_patches\n",
        "        self.projection = layers.Dense(units=projection_dim)\n",
        "        self.position_embedding = layers.Embedding(\n",
        "            input_dim=num_patches, output_dim=projection_dim\n",
        "        )\n",
        "\n",
        "    def call(self, patch):\n",
        "        positions = tf.range(start=0, limit=self.num_patches, delta=1)\n",
        "        encoded = self.projection(patch) + self.position_embedding(positions)\n",
        "        return encoded\n",
        "\n"
      ]
    },
    {
      "cell_type": "code",
      "execution_count": 17,
      "metadata": {
        "colab": {
          "base_uri": "https://localhost:8080/"
        },
        "id": "EBQ9MsYk7ybL",
        "outputId": "48df0e99-0f5c-4900-dc24-06cea8cac0f6"
      },
      "outputs": [
        {
          "name": "stdout",
          "output_type": "stream",
          "text": [
            "Model: \"sequential_3\"\n",
            "_________________________________________________________________\n",
            "Layer (type)                 Output Shape              Param #   \n",
            "=================================================================\n",
            "conv2d_13 (Conv2D)           (None, 62, 125, 64)       2944      \n",
            "_________________________________________________________________\n",
            "conv2d_14 (Conv2D)           (None, 62, 63, 64)        36928     \n",
            "_________________________________________________________________\n",
            "conv2d_15 (Conv2D)           (None, 62, 63, 128)       73856     \n",
            "_________________________________________________________________\n",
            "max_pooling2d_6 (MaxPooling2 (None, 31, 31, 128)       0         \n",
            "_________________________________________________________________\n",
            "dropout_13 (Dropout)         (None, 31, 31, 128)       0         \n",
            "_________________________________________________________________\n",
            "conv2d_16 (Conv2D)           (None, 31, 31, 128)       147584    \n",
            "_________________________________________________________________\n",
            "conv2d_17 (Conv2D)           (None, 31, 31, 256)       295168    \n",
            "_________________________________________________________________\n",
            "conv2d_18 (Conv2D)           (None, 31, 31, 512)       1180160   \n",
            "_________________________________________________________________\n",
            "max_pooling2d_7 (MaxPooling2 (None, 15, 15, 512)       0         \n",
            "_________________________________________________________________\n",
            "dropout_14 (Dropout)         (None, 15, 15, 512)       0         \n",
            "=================================================================\n",
            "Total params: 1,736,640\n",
            "Trainable params: 1,736,640\n",
            "Non-trainable params: 0\n",
            "_________________________________________________________________\n"
          ]
        }
      ],
      "source": [
        "conv_block = Sequential([\n",
        "  Conv2D(filters= 64, kernel_size= 3, input_shape = (62,250,5), padding= 'same', strides= (1,2)), #kernel_regularizer=tf.keras.regularizers.l1(0.01), activity_regularizer=tf.keras.regularizers.l2(0.01)),\n",
        "  Conv2D(filters= 64, kernel_size= 3, padding= 'same', strides= (1,2)),\n",
        "  Conv2D(filters= 128, kernel_size= 3, padding= 'same'),\n",
        "  MaxPooling2D(pool_size= 2,strides = 2),\n",
        "  #BatchNormalization(),\n",
        "  Dropout(rate= 0.3),\n",
        "  Conv2D(filters= 128, kernel_size= 3, padding= 'same'), #kernel_regularizer=tf.keras.regularizers.l1(0.01), activity_regularizer=tf.keras.regularizers.l2(0.01)),\n",
        "  Conv2D(filters= 256, kernel_size= 3, padding= 'same'),\n",
        "  Conv2D(filters= 512, kernel_size= 3, padding= 'same'),\n",
        "  MaxPooling2D(pool_size= 2, strides = 2),\n",
        "  Dropout(rate= 0.2),\n",
        "\n",
        "])\n",
        "\n",
        "conv_block.summary()"
      ]
    },
    {
      "cell_type": "code",
      "execution_count": 18,
      "metadata": {
        "colab": {
          "base_uri": "https://localhost:8080/"
        },
        "id": "qQnc_ns6r1La",
        "outputId": "82cc6345-52e1-4f78-ca23-3719149897af"
      },
      "outputs": [
        {
          "name": "stdout",
          "output_type": "stream",
          "text": [
            "Model: \"sequential_4\"\n",
            "_________________________________________________________________\n",
            "Layer (type)                 Output Shape              Param #   \n",
            "=================================================================\n",
            "conv2d_19 (Conv2D)           (None, 62, 265, 128)      5888      \n",
            "_________________________________________________________________\n",
            "conv2d_20 (Conv2D)           (None, 62, 265, 128)      147584    \n",
            "_________________________________________________________________\n",
            "conv2d_21 (Conv2D)           (None, 62, 265, 128)      147584    \n",
            "_________________________________________________________________\n",
            "max_pooling2d_8 (MaxPooling2 (None, 31, 132, 128)      0         \n",
            "_________________________________________________________________\n",
            "dropout_15 (Dropout)         (None, 31, 132, 128)      0         \n",
            "_________________________________________________________________\n",
            "conv2d_22 (Conv2D)           (None, 31, 132, 256)      295168    \n",
            "_________________________________________________________________\n",
            "conv2d_23 (Conv2D)           (None, 31, 132, 256)      590080    \n",
            "_________________________________________________________________\n",
            "conv2d_24 (Conv2D)           (None, 31, 132, 256)      590080    \n",
            "_________________________________________________________________\n",
            "max_pooling2d_9 (MaxPooling2 (None, 15, 66, 256)       0         \n",
            "_________________________________________________________________\n",
            "dropout_16 (Dropout)         (None, 15, 66, 256)       0         \n",
            "_________________________________________________________________\n",
            "conv2d_25 (Conv2D)           (None, 15, 66, 512)       1180160   \n",
            "_________________________________________________________________\n",
            "conv2d_26 (Conv2D)           (None, 15, 66, 512)       2359808   \n",
            "_________________________________________________________________\n",
            "conv2d_27 (Conv2D)           (None, 15, 66, 512)       2359808   \n",
            "_________________________________________________________________\n",
            "max_pooling2d_10 (MaxPooling (None, 14, 33, 512)       0         \n",
            "_________________________________________________________________\n",
            "dropout_17 (Dropout)         (None, 14, 33, 512)       0         \n",
            "=================================================================\n",
            "Total params: 7,676,160\n",
            "Trainable params: 7,676,160\n",
            "Non-trainable params: 0\n",
            "_________________________________________________________________\n"
          ]
        }
      ],
      "source": [
        "conv_block_trial = Sequential([\n",
        "  \n",
        "  Conv2D(filters= 128, kernel_size= 3, input_shape = (62,265,5), padding= 'same'), #kernel_regularizer=tf.keras.regularizers.l1(0.01), activity_regularizer=tf.keras.regularizers.l2(0.01)),\n",
        "  Conv2D(filters= 128, kernel_size= 3, padding= 'same'),\n",
        "  Conv2D(filters= 128, kernel_size= 3, padding= 'same'),\n",
        "  MaxPooling2D(pool_size= 2,strides = 2),\n",
        "  #BatchNormalization(),\n",
        "  Dropout(rate= 0.3),\n",
        "\n",
        "  Conv2D(filters= 256, kernel_size= 3, padding= 'same'), #kernel_regularizer=tf.keras.regularizers.l1(0.01), activity_regularizer=tf.keras.regularizers.l2(0.01)),\n",
        "  Conv2D(filters= 256, kernel_size= 3, padding= 'same'),\n",
        "  Conv2D(filters= 256, kernel_size= 3, padding= 'same'),\n",
        "  MaxPooling2D(pool_size= 2, strides = 2),\n",
        "  Dropout(rate= 0.2),\n",
        "\n",
        "\n",
        "  Conv2D(filters= 512, kernel_size= 3, padding= 'same'), #kernel_regularizer=tf.keras.regularizers.l1(0.01), activity_regularizer=tf.keras.regularizers.l2(0.01)),\n",
        "  Conv2D(filters= 512, kernel_size= 3, padding= 'same'),\n",
        "  Conv2D(filters= 512, kernel_size= 3, padding= 'same'),\n",
        "  MaxPooling2D(pool_size= 2, strides = (1,2)),\n",
        "  Dropout(rate= 0.25),\n",
        "])\n",
        "\n",
        "conv_block_trial.summary()"
      ]
    },
    {
      "cell_type": "code",
      "execution_count": 19,
      "metadata": {
        "id": "rtEjpHPMG2Ao"
      },
      "outputs": [],
      "source": [
        "def create_vit_classifier():\n",
        "    inputs = layers.Input(shape= (62, 250, 5))\n",
        "    features = conv_block(inputs)\n",
        "    # Augment data.\n",
        "    #augmented = data_augmentation(inputs)\n",
        "    # Create patches.\n",
        "    patches = Patches(patch_size)(features)\n",
        "    # Encode patches.\n",
        "    encoded_patches = PatchEncoder(num_patches, projection_dim)(patches)\n",
        "\n",
        "    # Create multiple layers of the Transformer block.\n",
        "    for _ in range(transformer_layers):\n",
        "        # Layer normalization 1.\n",
        "        x1 = layers.LayerNormalization(epsilon=1e-6)(encoded_patches)\n",
        "        # Create a multi-head attention layer.\n",
        "        attention_output = layers.MultiHeadAttention(\n",
        "            num_heads=num_heads, key_dim=projection_dim, dropout=0.1\n",
        "        )(x1, x1)\n",
        "        # Skip connection 1.\n",
        "        x2 = layers.Add()([attention_output, encoded_patches])\n",
        "        # Layer normalization 2.\n",
        "        x3 = layers.LayerNormalization(epsilon=1e-6)(x2)\n",
        "        # MLP.\n",
        "        x3 = mlp(x3, hidden_units=transformer_units, dropout_rate=0.1)\n",
        "        # Skip connection 2.\n",
        "        encoded_patches = layers.Add()([x3, x2])\n",
        "\n",
        "    # Create a [batch_size, projection_dim] tensor.\n",
        "    representation = layers.LayerNormalization(epsilon=1e-6)(encoded_patches)\n",
        "    representation = layers.Flatten()(representation)\n",
        "    representation = layers.Dropout(0.5)(representation)\n",
        "    # Add MLP.\n",
        "    features = mlp(representation, hidden_units=mlp_head_units, dropout_rate=0.5)\n",
        "    # Classify outputs.\n",
        "    logits = layers.Dense(num_classes)(features)\n",
        "    outputs = layers.Softmax()(logits)\n",
        "    # Create the Keras model.\n",
        "    model_vit = keras.Model(inputs=inputs, outputs=outputs)\n",
        "    return model_vit\n",
        "\n",
        "def run_experiment(model_vit):\n",
        "\n",
        "    checkpoint_filepath = \"/tmp/checkpoint\"\n",
        "    checkpoint_callback = keras.callbacks.ModelCheckpoint(\n",
        "        checkpoint_filepath,\n",
        "        monitor=\"val_accuracy\",\n",
        "        save_best_only=True,\n",
        "        save_weights_only=True,\n",
        "    )\n",
        "    reduce_lr_exp = ReduceLROnPlateau(monitor='loss', factor=0.8, patience=4, min_lr=1e-6)  \n",
        "\n",
        "    history = model_vit.fit(\n",
        "        x= train_data,\n",
        "        y= train_labels_reshaped,\n",
        "        batch_size=batch_size,\n",
        "        epochs=num_epochs,\n",
        "        validation_split=0.1,\n",
        "        callbacks=[checkpoint_callback, reduce_lr_exp],\n",
        "    )\n",
        "\n",
        "    model_vit.load_weights(checkpoint_filepath)\n",
        "    _, accuracy = model_vit.evaluate(test_data, test_labels_reshaped)\n",
        "    print(f\"Test accuracy: {round(accuracy * 100, 2)}%\")\n",
        "\n",
        "    return history"
      ]
    },
    {
      "cell_type": "code",
      "execution_count": 20,
      "metadata": {
        "colab": {
          "base_uri": "https://localhost:8080/"
        },
        "id": "aZTW8ZLTz4ww",
        "outputId": "90f0b547-8f47-4103-b163-8836ba9eb95f"
      },
      "outputs": [
        {
          "name": "stdout",
          "output_type": "stream",
          "text": [
            "Model: \"model\"\n",
            "__________________________________________________________________________________________________\n",
            "Layer (type)                    Output Shape         Param #     Connected to                     \n",
            "==================================================================================================\n",
            "input_1 (InputLayer)            [(None, 62, 250, 5)] 0                                            \n",
            "__________________________________________________________________________________________________\n",
            "sequential_3 (Sequential)       (None, 15, 15, 512)  1736640     input_1[0][0]                    \n",
            "__________________________________________________________________________________________________\n",
            "patches (Patches)               (None, None, 4608)   0           sequential_3[0][0]               \n",
            "__________________________________________________________________________________________________\n",
            "patch_encoder (PatchEncoder)    (None, 25, 64)       296576      patches[0][0]                    \n",
            "__________________________________________________________________________________________________\n",
            "layer_normalization (LayerNorma (None, 25, 64)       128         patch_encoder[0][0]              \n",
            "__________________________________________________________________________________________________\n",
            "multi_head_attention (MultiHead (None, 25, 64)       132672      layer_normalization[0][0]        \n",
            "                                                                 layer_normalization[0][0]        \n",
            "__________________________________________________________________________________________________\n",
            "add (Add)                       (None, 25, 64)       0           multi_head_attention[0][0]       \n",
            "                                                                 patch_encoder[0][0]              \n",
            "__________________________________________________________________________________________________\n",
            "layer_normalization_1 (LayerNor (None, 25, 64)       128         add[0][0]                        \n",
            "__________________________________________________________________________________________________\n",
            "dense_13 (Dense)                (None, 25, 128)      8320        layer_normalization_1[0][0]      \n",
            "__________________________________________________________________________________________________\n",
            "dropout_18 (Dropout)            (None, 25, 128)      0           dense_13[0][0]                   \n",
            "__________________________________________________________________________________________________\n",
            "dense_14 (Dense)                (None, 25, 64)       8256        dropout_18[0][0]                 \n",
            "__________________________________________________________________________________________________\n",
            "dropout_19 (Dropout)            (None, 25, 64)       0           dense_14[0][0]                   \n",
            "__________________________________________________________________________________________________\n",
            "add_1 (Add)                     (None, 25, 64)       0           dropout_19[0][0]                 \n",
            "                                                                 add[0][0]                        \n",
            "__________________________________________________________________________________________________\n",
            "layer_normalization_2 (LayerNor (None, 25, 64)       128         add_1[0][0]                      \n",
            "__________________________________________________________________________________________________\n",
            "multi_head_attention_1 (MultiHe (None, 25, 64)       132672      layer_normalization_2[0][0]      \n",
            "                                                                 layer_normalization_2[0][0]      \n",
            "__________________________________________________________________________________________________\n",
            "add_2 (Add)                     (None, 25, 64)       0           multi_head_attention_1[0][0]     \n",
            "                                                                 add_1[0][0]                      \n",
            "__________________________________________________________________________________________________\n",
            "layer_normalization_3 (LayerNor (None, 25, 64)       128         add_2[0][0]                      \n",
            "__________________________________________________________________________________________________\n",
            "dense_15 (Dense)                (None, 25, 128)      8320        layer_normalization_3[0][0]      \n",
            "__________________________________________________________________________________________________\n",
            "dropout_20 (Dropout)            (None, 25, 128)      0           dense_15[0][0]                   \n",
            "__________________________________________________________________________________________________\n",
            "dense_16 (Dense)                (None, 25, 64)       8256        dropout_20[0][0]                 \n",
            "__________________________________________________________________________________________________\n",
            "dropout_21 (Dropout)            (None, 25, 64)       0           dense_16[0][0]                   \n",
            "__________________________________________________________________________________________________\n",
            "add_3 (Add)                     (None, 25, 64)       0           dropout_21[0][0]                 \n",
            "                                                                 add_2[0][0]                      \n",
            "__________________________________________________________________________________________________\n",
            "layer_normalization_4 (LayerNor (None, 25, 64)       128         add_3[0][0]                      \n",
            "__________________________________________________________________________________________________\n",
            "multi_head_attention_2 (MultiHe (None, 25, 64)       132672      layer_normalization_4[0][0]      \n",
            "                                                                 layer_normalization_4[0][0]      \n",
            "__________________________________________________________________________________________________\n",
            "add_4 (Add)                     (None, 25, 64)       0           multi_head_attention_2[0][0]     \n",
            "                                                                 add_3[0][0]                      \n",
            "__________________________________________________________________________________________________\n",
            "layer_normalization_5 (LayerNor (None, 25, 64)       128         add_4[0][0]                      \n",
            "__________________________________________________________________________________________________\n",
            "dense_17 (Dense)                (None, 25, 128)      8320        layer_normalization_5[0][0]      \n",
            "__________________________________________________________________________________________________\n",
            "dropout_22 (Dropout)            (None, 25, 128)      0           dense_17[0][0]                   \n",
            "__________________________________________________________________________________________________\n",
            "dense_18 (Dense)                (None, 25, 64)       8256        dropout_22[0][0]                 \n",
            "__________________________________________________________________________________________________\n",
            "dropout_23 (Dropout)            (None, 25, 64)       0           dense_18[0][0]                   \n",
            "__________________________________________________________________________________________________\n",
            "add_5 (Add)                     (None, 25, 64)       0           dropout_23[0][0]                 \n",
            "                                                                 add_4[0][0]                      \n",
            "__________________________________________________________________________________________________\n",
            "layer_normalization_6 (LayerNor (None, 25, 64)       128         add_5[0][0]                      \n",
            "__________________________________________________________________________________________________\n",
            "multi_head_attention_3 (MultiHe (None, 25, 64)       132672      layer_normalization_6[0][0]      \n",
            "                                                                 layer_normalization_6[0][0]      \n",
            "__________________________________________________________________________________________________\n",
            "add_6 (Add)                     (None, 25, 64)       0           multi_head_attention_3[0][0]     \n",
            "                                                                 add_5[0][0]                      \n",
            "__________________________________________________________________________________________________\n",
            "layer_normalization_7 (LayerNor (None, 25, 64)       128         add_6[0][0]                      \n",
            "__________________________________________________________________________________________________\n",
            "dense_19 (Dense)                (None, 25, 128)      8320        layer_normalization_7[0][0]      \n",
            "__________________________________________________________________________________________________\n",
            "dropout_24 (Dropout)            (None, 25, 128)      0           dense_19[0][0]                   \n",
            "__________________________________________________________________________________________________\n",
            "dense_20 (Dense)                (None, 25, 64)       8256        dropout_24[0][0]                 \n",
            "__________________________________________________________________________________________________\n",
            "dropout_25 (Dropout)            (None, 25, 64)       0           dense_20[0][0]                   \n",
            "__________________________________________________________________________________________________\n",
            "add_7 (Add)                     (None, 25, 64)       0           dropout_25[0][0]                 \n",
            "                                                                 add_6[0][0]                      \n",
            "__________________________________________________________________________________________________\n",
            "layer_normalization_8 (LayerNor (None, 25, 64)       128         add_7[0][0]                      \n",
            "__________________________________________________________________________________________________\n",
            "multi_head_attention_4 (MultiHe (None, 25, 64)       132672      layer_normalization_8[0][0]      \n",
            "                                                                 layer_normalization_8[0][0]      \n",
            "__________________________________________________________________________________________________\n",
            "add_8 (Add)                     (None, 25, 64)       0           multi_head_attention_4[0][0]     \n",
            "                                                                 add_7[0][0]                      \n",
            "__________________________________________________________________________________________________\n",
            "layer_normalization_9 (LayerNor (None, 25, 64)       128         add_8[0][0]                      \n",
            "__________________________________________________________________________________________________\n",
            "dense_21 (Dense)                (None, 25, 128)      8320        layer_normalization_9[0][0]      \n",
            "__________________________________________________________________________________________________\n",
            "dropout_26 (Dropout)            (None, 25, 128)      0           dense_21[0][0]                   \n",
            "__________________________________________________________________________________________________\n",
            "dense_22 (Dense)                (None, 25, 64)       8256        dropout_26[0][0]                 \n",
            "__________________________________________________________________________________________________\n",
            "dropout_27 (Dropout)            (None, 25, 64)       0           dense_22[0][0]                   \n",
            "__________________________________________________________________________________________________\n",
            "add_9 (Add)                     (None, 25, 64)       0           dropout_27[0][0]                 \n",
            "                                                                 add_8[0][0]                      \n",
            "__________________________________________________________________________________________________\n",
            "layer_normalization_10 (LayerNo (None, 25, 64)       128         add_9[0][0]                      \n",
            "__________________________________________________________________________________________________\n",
            "multi_head_attention_5 (MultiHe (None, 25, 64)       132672      layer_normalization_10[0][0]     \n",
            "                                                                 layer_normalization_10[0][0]     \n",
            "__________________________________________________________________________________________________\n",
            "add_10 (Add)                    (None, 25, 64)       0           multi_head_attention_5[0][0]     \n",
            "                                                                 add_9[0][0]                      \n",
            "__________________________________________________________________________________________________\n",
            "layer_normalization_11 (LayerNo (None, 25, 64)       128         add_10[0][0]                     \n",
            "__________________________________________________________________________________________________\n",
            "dense_23 (Dense)                (None, 25, 128)      8320        layer_normalization_11[0][0]     \n",
            "__________________________________________________________________________________________________\n",
            "dropout_28 (Dropout)            (None, 25, 128)      0           dense_23[0][0]                   \n",
            "__________________________________________________________________________________________________\n",
            "dense_24 (Dense)                (None, 25, 64)       8256        dropout_28[0][0]                 \n",
            "__________________________________________________________________________________________________\n",
            "dropout_29 (Dropout)            (None, 25, 64)       0           dense_24[0][0]                   \n",
            "__________________________________________________________________________________________________\n",
            "add_11 (Add)                    (None, 25, 64)       0           dropout_29[0][0]                 \n",
            "                                                                 add_10[0][0]                     \n",
            "__________________________________________________________________________________________________\n",
            "layer_normalization_12 (LayerNo (None, 25, 64)       128         add_11[0][0]                     \n",
            "__________________________________________________________________________________________________\n",
            "multi_head_attention_6 (MultiHe (None, 25, 64)       132672      layer_normalization_12[0][0]     \n",
            "                                                                 layer_normalization_12[0][0]     \n",
            "__________________________________________________________________________________________________\n",
            "add_12 (Add)                    (None, 25, 64)       0           multi_head_attention_6[0][0]     \n",
            "                                                                 add_11[0][0]                     \n",
            "__________________________________________________________________________________________________\n",
            "layer_normalization_13 (LayerNo (None, 25, 64)       128         add_12[0][0]                     \n",
            "__________________________________________________________________________________________________\n",
            "dense_25 (Dense)                (None, 25, 128)      8320        layer_normalization_13[0][0]     \n",
            "__________________________________________________________________________________________________\n",
            "dropout_30 (Dropout)            (None, 25, 128)      0           dense_25[0][0]                   \n",
            "__________________________________________________________________________________________________\n",
            "dense_26 (Dense)                (None, 25, 64)       8256        dropout_30[0][0]                 \n",
            "__________________________________________________________________________________________________\n",
            "dropout_31 (Dropout)            (None, 25, 64)       0           dense_26[0][0]                   \n",
            "__________________________________________________________________________________________________\n",
            "add_13 (Add)                    (None, 25, 64)       0           dropout_31[0][0]                 \n",
            "                                                                 add_12[0][0]                     \n",
            "__________________________________________________________________________________________________\n",
            "layer_normalization_14 (LayerNo (None, 25, 64)       128         add_13[0][0]                     \n",
            "__________________________________________________________________________________________________\n",
            "multi_head_attention_7 (MultiHe (None, 25, 64)       132672      layer_normalization_14[0][0]     \n",
            "                                                                 layer_normalization_14[0][0]     \n",
            "__________________________________________________________________________________________________\n",
            "add_14 (Add)                    (None, 25, 64)       0           multi_head_attention_7[0][0]     \n",
            "                                                                 add_13[0][0]                     \n",
            "__________________________________________________________________________________________________\n",
            "layer_normalization_15 (LayerNo (None, 25, 64)       128         add_14[0][0]                     \n",
            "__________________________________________________________________________________________________\n",
            "dense_27 (Dense)                (None, 25, 128)      8320        layer_normalization_15[0][0]     \n",
            "__________________________________________________________________________________________________\n",
            "dropout_32 (Dropout)            (None, 25, 128)      0           dense_27[0][0]                   \n",
            "__________________________________________________________________________________________________\n",
            "dense_28 (Dense)                (None, 25, 64)       8256        dropout_32[0][0]                 \n",
            "__________________________________________________________________________________________________\n",
            "dropout_33 (Dropout)            (None, 25, 64)       0           dense_28[0][0]                   \n",
            "__________________________________________________________________________________________________\n",
            "add_15 (Add)                    (None, 25, 64)       0           dropout_33[0][0]                 \n",
            "                                                                 add_14[0][0]                     \n",
            "__________________________________________________________________________________________________\n",
            "layer_normalization_16 (LayerNo (None, 25, 64)       128         add_15[0][0]                     \n",
            "__________________________________________________________________________________________________\n",
            "flatten_3 (Flatten)             (None, 1600)         0           layer_normalization_16[0][0]     \n",
            "__________________________________________________________________________________________________\n",
            "dropout_34 (Dropout)            (None, 1600)         0           flatten_3[0][0]                  \n",
            "__________________________________________________________________________________________________\n",
            "dense_29 (Dense)                (None, 2048)         3278848     dropout_34[0][0]                 \n",
            "__________________________________________________________________________________________________\n",
            "dropout_35 (Dropout)            (None, 2048)         0           dense_29[0][0]                   \n",
            "__________________________________________________________________________________________________\n",
            "dense_30 (Dense)                (None, 1024)         2098176     dropout_35[0][0]                 \n",
            "__________________________________________________________________________________________________\n",
            "dropout_36 (Dropout)            (None, 1024)         0           dense_30[0][0]                   \n",
            "__________________________________________________________________________________________________\n",
            "dense_31 (Dense)                (None, 3)            3075        dropout_36[0][0]                 \n",
            "__________________________________________________________________________________________________\n",
            "softmax (Softmax)               (None, 3)            0           dense_31[0][0]                   \n",
            "==================================================================================================\n",
            "Total params: 8,609,475\n",
            "Trainable params: 8,609,475\n",
            "Non-trainable params: 0\n",
            "__________________________________________________________________________________________________\n"
          ]
        }
      ],
      "source": [
        "vit_classifier = create_vit_classifier()\n",
        "vit_classifier.summary()\n",
        "\n",
        "optimizer = keras.optimizers.Adam(\n",
        "    learning_rate=learning_rate #, weight_decay=weight_decay\n",
        ")\n",
        "\n",
        "vit_classifier.compile(\n",
        "    optimizer=optimizer,\n",
        "    loss=keras.losses.CategoricalCrossentropy(),\n",
        "    metrics=[\n",
        "        keras.metrics.CategoricalAccuracy(name=\"accuracy\"),\n",
        "    ],\n",
        ")\n"
      ]
    },
    {
      "cell_type": "markdown",
      "metadata": {
        "id": "CivG4hMR39rd"
      },
      "source": [
        "## Training"
      ]
    },
    {
      "cell_type": "markdown",
      "metadata": {
        "id": "wWxsDqXH4CXg"
      },
      "source": [
        "#### CNN Training"
      ]
    },
    {
      "cell_type": "code",
      "execution_count": null,
      "metadata": {
        "colab": {
          "base_uri": "https://localhost:8080/"
        },
        "id": "xlnvmTtPfxu3",
        "outputId": "40240396-2649-43af-9a3d-944c1e0f5dfd"
      },
      "outputs": [
        {
          "name": "stdout",
          "output_type": "stream",
          "text": [
            "Epoch 1/100\n",
            "9/9 [==============================] - 42s 5s/step - loss: 1.1210 - accuracy: 0.3600 - root_mean_squared_error: 0.4760 - val_loss: 1.0289 - val_accuracy: 0.6000 - val_root_mean_squared_error: 0.4542\n",
            "Epoch 2/100\n",
            "9/9 [==============================] - 43s 5s/step - loss: 1.0448 - accuracy: 0.4527 - root_mean_squared_error: 0.4590 - val_loss: 0.9662 - val_accuracy: 0.5000 - val_root_mean_squared_error: 0.4383\n",
            "Epoch 3/100\n",
            "9/9 [==============================] - 43s 5s/step - loss: 0.9160 - accuracy: 0.5600 - root_mean_squared_error: 0.4281 - val_loss: 0.8313 - val_accuracy: 0.6400 - val_root_mean_squared_error: 0.4066\n",
            "Epoch 4/100\n",
            "9/9 [==============================] - 48s 5s/step - loss: 0.7815 - accuracy: 0.5836 - root_mean_squared_error: 0.3957 - val_loss: 0.7217 - val_accuracy: 0.6800 - val_root_mean_squared_error: 0.3750\n",
            "Epoch 5/100\n",
            "9/9 [==============================] - 43s 5s/step - loss: 0.7011 - accuracy: 0.6673 - root_mean_squared_error: 0.3743 - val_loss: 0.7022 - val_accuracy: 0.7400 - val_root_mean_squared_error: 0.3737\n",
            "Epoch 6/100\n",
            "9/9 [==============================] - 42s 5s/step - loss: 0.6571 - accuracy: 0.6891 - root_mean_squared_error: 0.3611 - val_loss: 0.6444 - val_accuracy: 0.7400 - val_root_mean_squared_error: 0.3582\n",
            "Epoch 7/100\n",
            "9/9 [==============================] - 41s 5s/step - loss: 0.5653 - accuracy: 0.7618 - root_mean_squared_error: 0.3350 - val_loss: 0.6117 - val_accuracy: 0.6800 - val_root_mean_squared_error: 0.3556\n",
            "Epoch 8/100\n",
            "9/9 [==============================] - 42s 5s/step - loss: 0.5201 - accuracy: 0.7818 - root_mean_squared_error: 0.3220 - val_loss: 0.6189 - val_accuracy: 0.6400 - val_root_mean_squared_error: 0.3603\n",
            "Epoch 9/100\n",
            "9/9 [==============================] - 43s 5s/step - loss: 0.4940 - accuracy: 0.7636 - root_mean_squared_error: 0.3196 - val_loss: 0.5208 - val_accuracy: 0.7800 - val_root_mean_squared_error: 0.3233\n",
            "Epoch 10/100\n",
            "9/9 [==============================] - 40s 4s/step - loss: 0.4756 - accuracy: 0.8073 - root_mean_squared_error: 0.3097 - val_loss: 0.5088 - val_accuracy: 0.8400 - val_root_mean_squared_error: 0.3143\n",
            "Epoch 11/100\n",
            "9/9 [==============================] - 41s 4s/step - loss: 0.4628 - accuracy: 0.7709 - root_mean_squared_error: 0.3107 - val_loss: 0.4738 - val_accuracy: 0.8000 - val_root_mean_squared_error: 0.3053\n",
            "Epoch 12/100\n",
            "9/9 [==============================] - 41s 4s/step - loss: 0.4101 - accuracy: 0.8018 - root_mean_squared_error: 0.2894 - val_loss: 0.4458 - val_accuracy: 0.8200 - val_root_mean_squared_error: 0.2957\n",
            "Epoch 13/100\n",
            "9/9 [==============================] - 44s 5s/step - loss: 0.4273 - accuracy: 0.8018 - root_mean_squared_error: 0.3019 - val_loss: 0.4740 - val_accuracy: 0.7800 - val_root_mean_squared_error: 0.3180\n",
            "Epoch 14/100\n",
            "9/9 [==============================] - 44s 5s/step - loss: 0.3689 - accuracy: 0.8164 - root_mean_squared_error: 0.2761 - val_loss: 0.4196 - val_accuracy: 0.7800 - val_root_mean_squared_error: 0.2952\n",
            "Epoch 15/100\n",
            "9/9 [==============================] - 43s 5s/step - loss: 0.3300 - accuracy: 0.8400 - root_mean_squared_error: 0.2640 - val_loss: 0.4096 - val_accuracy: 0.8600 - val_root_mean_squared_error: 0.2891\n",
            "Epoch 16/100\n",
            "9/9 [==============================] - 43s 5s/step - loss: 0.3264 - accuracy: 0.8473 - root_mean_squared_error: 0.2616 - val_loss: 0.3952 - val_accuracy: 0.8000 - val_root_mean_squared_error: 0.2912\n",
            "Epoch 17/100\n",
            "9/9 [==============================] - 44s 5s/step - loss: 0.3286 - accuracy: 0.8327 - root_mean_squared_error: 0.2662 - val_loss: 0.4068 - val_accuracy: 0.7600 - val_root_mean_squared_error: 0.2941\n",
            "Epoch 18/100\n",
            "9/9 [==============================] - 42s 5s/step - loss: 0.3280 - accuracy: 0.8418 - root_mean_squared_error: 0.2661 - val_loss: 0.4455 - val_accuracy: 0.7800 - val_root_mean_squared_error: 0.3126\n",
            "Epoch 19/100\n",
            "9/9 [==============================] - 41s 5s/step - loss: 0.3394 - accuracy: 0.8364 - root_mean_squared_error: 0.2676 - val_loss: 0.3824 - val_accuracy: 0.8400 - val_root_mean_squared_error: 0.2801\n",
            "Epoch 20/100\n",
            "9/9 [==============================] - 42s 5s/step - loss: 0.3287 - accuracy: 0.8309 - root_mean_squared_error: 0.2669 - val_loss: 0.3749 - val_accuracy: 0.8400 - val_root_mean_squared_error: 0.2805\n",
            "Epoch 21/100\n",
            "9/9 [==============================] - 41s 5s/step - loss: 0.3012 - accuracy: 0.8655 - root_mean_squared_error: 0.2520 - val_loss: 0.3800 - val_accuracy: 0.8000 - val_root_mean_squared_error: 0.2870\n",
            "Epoch 22/100\n",
            "9/9 [==============================] - 42s 5s/step - loss: 0.2852 - accuracy: 0.8636 - root_mean_squared_error: 0.2466 - val_loss: 0.4041 - val_accuracy: 0.8000 - val_root_mean_squared_error: 0.2966\n",
            "Epoch 23/100\n",
            "9/9 [==============================] - 40s 4s/step - loss: 0.2665 - accuracy: 0.8636 - root_mean_squared_error: 0.2384 - val_loss: 0.4003 - val_accuracy: 0.8200 - val_root_mean_squared_error: 0.2907\n",
            "Epoch 24/100\n",
            "9/9 [==============================] - 42s 5s/step - loss: 0.2660 - accuracy: 0.8927 - root_mean_squared_error: 0.2340 - val_loss: 0.3530 - val_accuracy: 0.8200 - val_root_mean_squared_error: 0.2682\n",
            "Epoch 25/100\n",
            "9/9 [==============================] - 43s 5s/step - loss: 0.2651 - accuracy: 0.8691 - root_mean_squared_error: 0.2398 - val_loss: 0.3391 - val_accuracy: 0.8400 - val_root_mean_squared_error: 0.2604\n",
            "Epoch 26/100\n",
            "9/9 [==============================] - 41s 5s/step - loss: 0.2849 - accuracy: 0.8745 - root_mean_squared_error: 0.2427 - val_loss: 0.3685 - val_accuracy: 0.7600 - val_root_mean_squared_error: 0.2817\n",
            "Epoch 27/100\n",
            "9/9 [==============================] - 42s 5s/step - loss: 0.2655 - accuracy: 0.8836 - root_mean_squared_error: 0.2345 - val_loss: 0.4053 - val_accuracy: 0.8000 - val_root_mean_squared_error: 0.3010\n",
            "Epoch 28/100\n",
            "9/9 [==============================] - 46s 5s/step - loss: 0.2535 - accuracy: 0.8673 - root_mean_squared_error: 0.2320 - val_loss: 0.3667 - val_accuracy: 0.8000 - val_root_mean_squared_error: 0.2767\n",
            "Epoch 29/100\n",
            "9/9 [==============================] - 46s 5s/step - loss: 0.2471 - accuracy: 0.8909 - root_mean_squared_error: 0.2284 - val_loss: 0.3610 - val_accuracy: 0.8200 - val_root_mean_squared_error: 0.2732\n",
            "Epoch 30/100\n",
            "9/9 [==============================] - 42s 5s/step - loss: 0.2436 - accuracy: 0.8964 - root_mean_squared_error: 0.2256 - val_loss: 0.3498 - val_accuracy: 0.8400 - val_root_mean_squared_error: 0.2721\n",
            "Epoch 31/100\n",
            "9/9 [==============================] - 41s 5s/step - loss: 0.2177 - accuracy: 0.9055 - root_mean_squared_error: 0.2126 - val_loss: 0.3459 - val_accuracy: 0.8400 - val_root_mean_squared_error: 0.2687\n",
            "Epoch 32/100\n",
            "9/9 [==============================] - 45s 5s/step - loss: 0.2242 - accuracy: 0.9000 - root_mean_squared_error: 0.2154 - val_loss: 0.3426 - val_accuracy: 0.8600 - val_root_mean_squared_error: 0.2658\n",
            "Epoch 33/100\n",
            "9/9 [==============================] - 43s 5s/step - loss: 0.2174 - accuracy: 0.9109 - root_mean_squared_error: 0.2132 - val_loss: 0.3552 - val_accuracy: 0.8400 - val_root_mean_squared_error: 0.2734\n",
            "Epoch 34/100\n",
            "9/9 [==============================] - 45s 5s/step - loss: 0.1971 - accuracy: 0.9164 - root_mean_squared_error: 0.1997 - val_loss: 0.3387 - val_accuracy: 0.8200 - val_root_mean_squared_error: 0.2668\n",
            "Epoch 35/100\n",
            "9/9 [==============================] - 42s 5s/step - loss: 0.2124 - accuracy: 0.9091 - root_mean_squared_error: 0.2069 - val_loss: 0.3563 - val_accuracy: 0.8400 - val_root_mean_squared_error: 0.2743\n",
            "Epoch 36/100\n",
            "9/9 [==============================] - 44s 5s/step - loss: 0.2054 - accuracy: 0.9200 - root_mean_squared_error: 0.2060 - val_loss: 0.3284 - val_accuracy: 0.8600 - val_root_mean_squared_error: 0.2580\n",
            "Epoch 37/100\n",
            "9/9 [==============================] - 42s 5s/step - loss: 0.2151 - accuracy: 0.8982 - root_mean_squared_error: 0.2118 - val_loss: 0.3523 - val_accuracy: 0.8400 - val_root_mean_squared_error: 0.2717\n",
            "Epoch 38/100\n",
            "9/9 [==============================] - 40s 4s/step - loss: 0.1728 - accuracy: 0.9273 - root_mean_squared_error: 0.1862 - val_loss: 0.3657 - val_accuracy: 0.8200 - val_root_mean_squared_error: 0.2779\n",
            "Epoch 39/100\n",
            "6/9 [===================>..........] - ETA: 14s - loss: 0.1996 - accuracy: 0.8984 - root_mean_squared_error: 0.2054"
          ]
        }
      ],
      "source": [
        "#Training our CNN model using a learning rate annealer (Reduces LR on Plateaus)\n",
        "reduce_lr_cnn = ReduceLROnPlateau(monitor='val_loss', factor=0.3, patience=5, min_lr=1e-7) #patience = 5 and factor = 0.9\n",
        "\n",
        "history = model.fit(\n",
        "  train_data,\n",
        "  train_labels_reshaped,\n",
        "  batch_size = 64,\n",
        "  epochs=100, \n",
        "  validation_data=(test_data, test_labels_reshaped),\n",
        "  callbacks = [reduce_lr_cnn]\n",
        ")"
      ]
    },
    {
      "cell_type": "markdown",
      "metadata": {
        "id": "zSMSxiHz4F-W"
      },
      "source": [
        "#### LSTM Training"
      ]
    },
    {
      "cell_type": "code",
      "execution_count": 17,
      "metadata": {
        "colab": {
          "base_uri": "https://localhost:8080/",
          "height": 474
        },
        "id": "oNY9Z9cnCUj0",
        "outputId": "53843fbc-0e60-4c99-aa00-5e97d2049446"
      },
      "outputs": [
        {
          "name": "stdout",
          "output_type": "stream",
          "text": [
            "Epoch 1/60\n",
            "9/9 [==============================] - 9s 450ms/step - loss: 1.0771 - accuracy: 0.4291 - root_mean_squared_error: 0.4656 - val_loss: 0.9506 - val_accuracy: 0.6000 - val_root_mean_squared_error: 0.4340\n",
            "Epoch 2/60\n",
            "9/9 [==============================] - 3s 296ms/step - loss: 0.9460 - accuracy: 0.5309 - root_mean_squared_error: 0.4339 - val_loss: 0.8039 - val_accuracy: 0.6200 - val_root_mean_squared_error: 0.3974\n",
            "Epoch 3/60\n",
            "4/9 [============>.................] - ETA: 1s - loss: 0.8811 - accuracy: 0.6094 - root_mean_squared_error: 0.4168"
          ]
        },
        {
          "ename": "KeyboardInterrupt",
          "evalue": "ignored",
          "output_type": "error",
          "traceback": [
            "\u001b[0;31m---------------------------------------------------------------------------\u001b[0m",
            "\u001b[0;31mKeyboardInterrupt\u001b[0m                         Traceback (most recent call last)",
            "\u001b[0;32m<ipython-input-17-8d4394909f7a>\u001b[0m in \u001b[0;36m<module>\u001b[0;34m()\u001b[0m\n\u001b[1;32m      8\u001b[0m   \u001b[0mepochs\u001b[0m\u001b[0;34m=\u001b[0m\u001b[0;36m60\u001b[0m\u001b[0;34m,\u001b[0m\u001b[0;34m\u001b[0m\u001b[0;34m\u001b[0m\u001b[0m\n\u001b[1;32m      9\u001b[0m   \u001b[0mvalidation_data\u001b[0m\u001b[0;34m=\u001b[0m\u001b[0;34m(\u001b[0m\u001b[0mrnn_test\u001b[0m\u001b[0;34m,\u001b[0m \u001b[0mtest_labels_reshaped\u001b[0m\u001b[0;34m)\u001b[0m\u001b[0;34m,\u001b[0m\u001b[0;34m\u001b[0m\u001b[0;34m\u001b[0m\u001b[0m\n\u001b[0;32m---> 10\u001b[0;31m   \u001b[0mcallbacks\u001b[0m \u001b[0;34m=\u001b[0m \u001b[0;34m[\u001b[0m\u001b[0mreduce_lr_rnn\u001b[0m\u001b[0;34m]\u001b[0m\u001b[0;34m\u001b[0m\u001b[0;34m\u001b[0m\u001b[0m\n\u001b[0m\u001b[1;32m     11\u001b[0m )\n",
            "\u001b[0;32m/usr/local/lib/python3.7/dist-packages/tensorflow/python/keras/engine/training.py\u001b[0m in \u001b[0;36mfit\u001b[0;34m(self, x, y, batch_size, epochs, verbose, callbacks, validation_split, validation_data, shuffle, class_weight, sample_weight, initial_epoch, steps_per_epoch, validation_steps, validation_batch_size, validation_freq, max_queue_size, workers, use_multiprocessing)\u001b[0m\n\u001b[1;32m   1181\u001b[0m                 _r=1):\n\u001b[1;32m   1182\u001b[0m               \u001b[0mcallbacks\u001b[0m\u001b[0;34m.\u001b[0m\u001b[0mon_train_batch_begin\u001b[0m\u001b[0;34m(\u001b[0m\u001b[0mstep\u001b[0m\u001b[0;34m)\u001b[0m\u001b[0;34m\u001b[0m\u001b[0;34m\u001b[0m\u001b[0m\n\u001b[0;32m-> 1183\u001b[0;31m               \u001b[0mtmp_logs\u001b[0m \u001b[0;34m=\u001b[0m \u001b[0mself\u001b[0m\u001b[0;34m.\u001b[0m\u001b[0mtrain_function\u001b[0m\u001b[0;34m(\u001b[0m\u001b[0miterator\u001b[0m\u001b[0;34m)\u001b[0m\u001b[0;34m\u001b[0m\u001b[0;34m\u001b[0m\u001b[0m\n\u001b[0m\u001b[1;32m   1184\u001b[0m               \u001b[0;32mif\u001b[0m \u001b[0mdata_handler\u001b[0m\u001b[0;34m.\u001b[0m\u001b[0mshould_sync\u001b[0m\u001b[0;34m:\u001b[0m\u001b[0;34m\u001b[0m\u001b[0;34m\u001b[0m\u001b[0m\n\u001b[1;32m   1185\u001b[0m                 \u001b[0mcontext\u001b[0m\u001b[0;34m.\u001b[0m\u001b[0masync_wait\u001b[0m\u001b[0;34m(\u001b[0m\u001b[0;34m)\u001b[0m\u001b[0;34m\u001b[0m\u001b[0;34m\u001b[0m\u001b[0m\n",
            "\u001b[0;32m/usr/local/lib/python3.7/dist-packages/tensorflow/python/eager/def_function.py\u001b[0m in \u001b[0;36m__call__\u001b[0;34m(self, *args, **kwds)\u001b[0m\n\u001b[1;32m    887\u001b[0m \u001b[0;34m\u001b[0m\u001b[0m\n\u001b[1;32m    888\u001b[0m       \u001b[0;32mwith\u001b[0m \u001b[0mOptionalXlaContext\u001b[0m\u001b[0;34m(\u001b[0m\u001b[0mself\u001b[0m\u001b[0;34m.\u001b[0m\u001b[0m_jit_compile\u001b[0m\u001b[0;34m)\u001b[0m\u001b[0;34m:\u001b[0m\u001b[0;34m\u001b[0m\u001b[0;34m\u001b[0m\u001b[0m\n\u001b[0;32m--> 889\u001b[0;31m         \u001b[0mresult\u001b[0m \u001b[0;34m=\u001b[0m \u001b[0mself\u001b[0m\u001b[0;34m.\u001b[0m\u001b[0m_call\u001b[0m\u001b[0;34m(\u001b[0m\u001b[0;34m*\u001b[0m\u001b[0margs\u001b[0m\u001b[0;34m,\u001b[0m \u001b[0;34m**\u001b[0m\u001b[0mkwds\u001b[0m\u001b[0;34m)\u001b[0m\u001b[0;34m\u001b[0m\u001b[0;34m\u001b[0m\u001b[0m\n\u001b[0m\u001b[1;32m    890\u001b[0m \u001b[0;34m\u001b[0m\u001b[0m\n\u001b[1;32m    891\u001b[0m       \u001b[0mnew_tracing_count\u001b[0m \u001b[0;34m=\u001b[0m \u001b[0mself\u001b[0m\u001b[0;34m.\u001b[0m\u001b[0mexperimental_get_tracing_count\u001b[0m\u001b[0;34m(\u001b[0m\u001b[0;34m)\u001b[0m\u001b[0;34m\u001b[0m\u001b[0;34m\u001b[0m\u001b[0m\n",
            "\u001b[0;32m/usr/local/lib/python3.7/dist-packages/tensorflow/python/eager/def_function.py\u001b[0m in \u001b[0;36m_call\u001b[0;34m(self, *args, **kwds)\u001b[0m\n\u001b[1;32m    915\u001b[0m       \u001b[0;31m# In this case we have created variables on the first call, so we run the\u001b[0m\u001b[0;34m\u001b[0m\u001b[0;34m\u001b[0m\u001b[0;34m\u001b[0m\u001b[0m\n\u001b[1;32m    916\u001b[0m       \u001b[0;31m# defunned version which is guaranteed to never create variables.\u001b[0m\u001b[0;34m\u001b[0m\u001b[0;34m\u001b[0m\u001b[0;34m\u001b[0m\u001b[0m\n\u001b[0;32m--> 917\u001b[0;31m       \u001b[0;32mreturn\u001b[0m \u001b[0mself\u001b[0m\u001b[0;34m.\u001b[0m\u001b[0m_stateless_fn\u001b[0m\u001b[0;34m(\u001b[0m\u001b[0;34m*\u001b[0m\u001b[0margs\u001b[0m\u001b[0;34m,\u001b[0m \u001b[0;34m**\u001b[0m\u001b[0mkwds\u001b[0m\u001b[0;34m)\u001b[0m  \u001b[0;31m# pylint: disable=not-callable\u001b[0m\u001b[0;34m\u001b[0m\u001b[0;34m\u001b[0m\u001b[0m\n\u001b[0m\u001b[1;32m    918\u001b[0m     \u001b[0;32melif\u001b[0m \u001b[0mself\u001b[0m\u001b[0;34m.\u001b[0m\u001b[0m_stateful_fn\u001b[0m \u001b[0;32mis\u001b[0m \u001b[0;32mnot\u001b[0m \u001b[0;32mNone\u001b[0m\u001b[0;34m:\u001b[0m\u001b[0;34m\u001b[0m\u001b[0;34m\u001b[0m\u001b[0m\n\u001b[1;32m    919\u001b[0m       \u001b[0;31m# Release the lock early so that multiple threads can perform the call\u001b[0m\u001b[0;34m\u001b[0m\u001b[0;34m\u001b[0m\u001b[0;34m\u001b[0m\u001b[0m\n",
            "\u001b[0;32m/usr/local/lib/python3.7/dist-packages/tensorflow/python/eager/function.py\u001b[0m in \u001b[0;36m__call__\u001b[0;34m(self, *args, **kwargs)\u001b[0m\n\u001b[1;32m   3022\u001b[0m        filtered_flat_args) = self._maybe_define_function(args, kwargs)\n\u001b[1;32m   3023\u001b[0m     return graph_function._call_flat(\n\u001b[0;32m-> 3024\u001b[0;31m         filtered_flat_args, captured_inputs=graph_function.captured_inputs)  # pylint: disable=protected-access\n\u001b[0m\u001b[1;32m   3025\u001b[0m \u001b[0;34m\u001b[0m\u001b[0m\n\u001b[1;32m   3026\u001b[0m   \u001b[0;34m@\u001b[0m\u001b[0mproperty\u001b[0m\u001b[0;34m\u001b[0m\u001b[0;34m\u001b[0m\u001b[0m\n",
            "\u001b[0;32m/usr/local/lib/python3.7/dist-packages/tensorflow/python/eager/function.py\u001b[0m in \u001b[0;36m_call_flat\u001b[0;34m(self, args, captured_inputs, cancellation_manager)\u001b[0m\n\u001b[1;32m   1959\u001b[0m       \u001b[0;31m# No tape is watching; skip to running the function.\u001b[0m\u001b[0;34m\u001b[0m\u001b[0;34m\u001b[0m\u001b[0;34m\u001b[0m\u001b[0m\n\u001b[1;32m   1960\u001b[0m       return self._build_call_outputs(self._inference_function.call(\n\u001b[0;32m-> 1961\u001b[0;31m           ctx, args, cancellation_manager=cancellation_manager))\n\u001b[0m\u001b[1;32m   1962\u001b[0m     forward_backward = self._select_forward_and_backward_functions(\n\u001b[1;32m   1963\u001b[0m         \u001b[0margs\u001b[0m\u001b[0;34m,\u001b[0m\u001b[0;34m\u001b[0m\u001b[0;34m\u001b[0m\u001b[0m\n",
            "\u001b[0;32m/usr/local/lib/python3.7/dist-packages/tensorflow/python/eager/function.py\u001b[0m in \u001b[0;36mcall\u001b[0;34m(self, ctx, args, cancellation_manager)\u001b[0m\n\u001b[1;32m    594\u001b[0m               \u001b[0minputs\u001b[0m\u001b[0;34m=\u001b[0m\u001b[0margs\u001b[0m\u001b[0;34m,\u001b[0m\u001b[0;34m\u001b[0m\u001b[0;34m\u001b[0m\u001b[0m\n\u001b[1;32m    595\u001b[0m               \u001b[0mattrs\u001b[0m\u001b[0;34m=\u001b[0m\u001b[0mattrs\u001b[0m\u001b[0;34m,\u001b[0m\u001b[0;34m\u001b[0m\u001b[0;34m\u001b[0m\u001b[0m\n\u001b[0;32m--> 596\u001b[0;31m               ctx=ctx)\n\u001b[0m\u001b[1;32m    597\u001b[0m         \u001b[0;32melse\u001b[0m\u001b[0;34m:\u001b[0m\u001b[0;34m\u001b[0m\u001b[0;34m\u001b[0m\u001b[0m\n\u001b[1;32m    598\u001b[0m           outputs = execute.execute_with_cancellation(\n",
            "\u001b[0;32m/usr/local/lib/python3.7/dist-packages/tensorflow/python/eager/execute.py\u001b[0m in \u001b[0;36mquick_execute\u001b[0;34m(op_name, num_outputs, inputs, attrs, ctx, name)\u001b[0m\n\u001b[1;32m     58\u001b[0m     \u001b[0mctx\u001b[0m\u001b[0;34m.\u001b[0m\u001b[0mensure_initialized\u001b[0m\u001b[0;34m(\u001b[0m\u001b[0;34m)\u001b[0m\u001b[0;34m\u001b[0m\u001b[0;34m\u001b[0m\u001b[0m\n\u001b[1;32m     59\u001b[0m     tensors = pywrap_tfe.TFE_Py_Execute(ctx._handle, device_name, op_name,\n\u001b[0;32m---> 60\u001b[0;31m                                         inputs, attrs, num_outputs)\n\u001b[0m\u001b[1;32m     61\u001b[0m   \u001b[0;32mexcept\u001b[0m \u001b[0mcore\u001b[0m\u001b[0;34m.\u001b[0m\u001b[0m_NotOkStatusException\u001b[0m \u001b[0;32mas\u001b[0m \u001b[0me\u001b[0m\u001b[0;34m:\u001b[0m\u001b[0;34m\u001b[0m\u001b[0;34m\u001b[0m\u001b[0m\n\u001b[1;32m     62\u001b[0m     \u001b[0;32mif\u001b[0m \u001b[0mname\u001b[0m \u001b[0;32mis\u001b[0m \u001b[0;32mnot\u001b[0m \u001b[0;32mNone\u001b[0m\u001b[0;34m:\u001b[0m\u001b[0;34m\u001b[0m\u001b[0;34m\u001b[0m\u001b[0m\n",
            "\u001b[0;31mKeyboardInterrupt\u001b[0m: "
          ]
        }
      ],
      "source": [
        "#Training our RNN model using a learning rate annealer (Reduces LR on Plateaus)\n",
        "\n",
        "'''reduce_lr_rnn = ReduceLROnPlateau(monitor='val_loss', factor=0.7, patience=5, min_lr=1e-6) #patience = 5 and factor = 0.9\n",
        "\n",
        "history_rnn = model_rnn.fit(\n",
        "  rnn_train,\n",
        "  train_labels_reshaped,\n",
        "  batch_size = 64,\n",
        "  epochs=60,\n",
        "  validation_data=(rnn_test, test_labels_reshaped),\n",
        "  callbacks = [reduce_lr_rnn]\n",
        ")'''"
      ]
    },
    {
      "cell_type": "markdown",
      "metadata": {
        "id": "yEmLKU354KHa"
      },
      "source": [
        "#### Hybrid Training"
      ]
    },
    {
      "cell_type": "code",
      "execution_count": 29,
      "metadata": {
        "colab": {
          "base_uri": "https://localhost:8080/",
          "height": 387
        },
        "id": "vzLNinymUw3R",
        "outputId": "bef6d8db-7591-4b44-f3c3-4dc32c9c12ed"
      },
      "outputs": [
        {
          "name": "stdout",
          "output_type": "stream",
          "text": [
            "Epoch 1/60\n",
            "10/18 [===============>..............] - ETA: 2s - loss: 0.5058 - accuracy: 0.8125 - root_mean_squared_error: 0.3088"
          ]
        },
        {
          "ename": "KeyboardInterrupt",
          "evalue": "ignored",
          "output_type": "error",
          "traceback": [
            "\u001b[0;31m---------------------------------------------------------------------------\u001b[0m",
            "\u001b[0;31mKeyboardInterrupt\u001b[0m                         Traceback (most recent call last)",
            "\u001b[0;32m<ipython-input-29-13dcd964fce9>\u001b[0m in \u001b[0;36m<module>\u001b[0;34m()\u001b[0m\n\u001b[1;32m      8\u001b[0m   \u001b[0mepochs\u001b[0m\u001b[0;34m=\u001b[0m\u001b[0;36m60\u001b[0m\u001b[0;34m,\u001b[0m\u001b[0;34m\u001b[0m\u001b[0;34m\u001b[0m\u001b[0m\n\u001b[1;32m      9\u001b[0m   \u001b[0mvalidation_data\u001b[0m\u001b[0;34m=\u001b[0m\u001b[0;34m(\u001b[0m\u001b[0mtest_data\u001b[0m\u001b[0;34m,\u001b[0m \u001b[0mtest_labels_reshaped\u001b[0m\u001b[0;34m)\u001b[0m\u001b[0;34m,\u001b[0m\u001b[0;34m\u001b[0m\u001b[0;34m\u001b[0m\u001b[0m\n\u001b[0;32m---> 10\u001b[0;31m   \u001b[0mcallbacks\u001b[0m \u001b[0;34m=\u001b[0m \u001b[0;34m[\u001b[0m\u001b[0mreduce_lr_hybrid\u001b[0m\u001b[0;34m]\u001b[0m\u001b[0;34m\u001b[0m\u001b[0;34m\u001b[0m\u001b[0m\n\u001b[0m\u001b[1;32m     11\u001b[0m )\n",
            "\u001b[0;32m/usr/local/lib/python3.7/dist-packages/tensorflow/python/keras/engine/training.py\u001b[0m in \u001b[0;36mfit\u001b[0;34m(self, x, y, batch_size, epochs, verbose, callbacks, validation_split, validation_data, shuffle, class_weight, sample_weight, initial_epoch, steps_per_epoch, validation_steps, validation_batch_size, validation_freq, max_queue_size, workers, use_multiprocessing)\u001b[0m\n\u001b[1;32m   1181\u001b[0m                 _r=1):\n\u001b[1;32m   1182\u001b[0m               \u001b[0mcallbacks\u001b[0m\u001b[0;34m.\u001b[0m\u001b[0mon_train_batch_begin\u001b[0m\u001b[0;34m(\u001b[0m\u001b[0mstep\u001b[0m\u001b[0;34m)\u001b[0m\u001b[0;34m\u001b[0m\u001b[0;34m\u001b[0m\u001b[0m\n\u001b[0;32m-> 1183\u001b[0;31m               \u001b[0mtmp_logs\u001b[0m \u001b[0;34m=\u001b[0m \u001b[0mself\u001b[0m\u001b[0;34m.\u001b[0m\u001b[0mtrain_function\u001b[0m\u001b[0;34m(\u001b[0m\u001b[0miterator\u001b[0m\u001b[0;34m)\u001b[0m\u001b[0;34m\u001b[0m\u001b[0;34m\u001b[0m\u001b[0m\n\u001b[0m\u001b[1;32m   1184\u001b[0m               \u001b[0;32mif\u001b[0m \u001b[0mdata_handler\u001b[0m\u001b[0;34m.\u001b[0m\u001b[0mshould_sync\u001b[0m\u001b[0;34m:\u001b[0m\u001b[0;34m\u001b[0m\u001b[0;34m\u001b[0m\u001b[0m\n\u001b[1;32m   1185\u001b[0m                 \u001b[0mcontext\u001b[0m\u001b[0;34m.\u001b[0m\u001b[0masync_wait\u001b[0m\u001b[0;34m(\u001b[0m\u001b[0;34m)\u001b[0m\u001b[0;34m\u001b[0m\u001b[0;34m\u001b[0m\u001b[0m\n",
            "\u001b[0;32m/usr/local/lib/python3.7/dist-packages/tensorflow/python/eager/def_function.py\u001b[0m in \u001b[0;36m__call__\u001b[0;34m(self, *args, **kwds)\u001b[0m\n\u001b[1;32m    887\u001b[0m \u001b[0;34m\u001b[0m\u001b[0m\n\u001b[1;32m    888\u001b[0m       \u001b[0;32mwith\u001b[0m \u001b[0mOptionalXlaContext\u001b[0m\u001b[0;34m(\u001b[0m\u001b[0mself\u001b[0m\u001b[0;34m.\u001b[0m\u001b[0m_jit_compile\u001b[0m\u001b[0;34m)\u001b[0m\u001b[0;34m:\u001b[0m\u001b[0;34m\u001b[0m\u001b[0;34m\u001b[0m\u001b[0m\n\u001b[0;32m--> 889\u001b[0;31m         \u001b[0mresult\u001b[0m \u001b[0;34m=\u001b[0m \u001b[0mself\u001b[0m\u001b[0;34m.\u001b[0m\u001b[0m_call\u001b[0m\u001b[0;34m(\u001b[0m\u001b[0;34m*\u001b[0m\u001b[0margs\u001b[0m\u001b[0;34m,\u001b[0m \u001b[0;34m**\u001b[0m\u001b[0mkwds\u001b[0m\u001b[0;34m)\u001b[0m\u001b[0;34m\u001b[0m\u001b[0;34m\u001b[0m\u001b[0m\n\u001b[0m\u001b[1;32m    890\u001b[0m \u001b[0;34m\u001b[0m\u001b[0m\n\u001b[1;32m    891\u001b[0m       \u001b[0mnew_tracing_count\u001b[0m \u001b[0;34m=\u001b[0m \u001b[0mself\u001b[0m\u001b[0;34m.\u001b[0m\u001b[0mexperimental_get_tracing_count\u001b[0m\u001b[0;34m(\u001b[0m\u001b[0;34m)\u001b[0m\u001b[0;34m\u001b[0m\u001b[0;34m\u001b[0m\u001b[0m\n",
            "\u001b[0;32m/usr/local/lib/python3.7/dist-packages/tensorflow/python/eager/def_function.py\u001b[0m in \u001b[0;36m_call\u001b[0;34m(self, *args, **kwds)\u001b[0m\n\u001b[1;32m    915\u001b[0m       \u001b[0;31m# In this case we have created variables on the first call, so we run the\u001b[0m\u001b[0;34m\u001b[0m\u001b[0;34m\u001b[0m\u001b[0;34m\u001b[0m\u001b[0m\n\u001b[1;32m    916\u001b[0m       \u001b[0;31m# defunned version which is guaranteed to never create variables.\u001b[0m\u001b[0;34m\u001b[0m\u001b[0;34m\u001b[0m\u001b[0;34m\u001b[0m\u001b[0m\n\u001b[0;32m--> 917\u001b[0;31m       \u001b[0;32mreturn\u001b[0m \u001b[0mself\u001b[0m\u001b[0;34m.\u001b[0m\u001b[0m_stateless_fn\u001b[0m\u001b[0;34m(\u001b[0m\u001b[0;34m*\u001b[0m\u001b[0margs\u001b[0m\u001b[0;34m,\u001b[0m \u001b[0;34m**\u001b[0m\u001b[0mkwds\u001b[0m\u001b[0;34m)\u001b[0m  \u001b[0;31m# pylint: disable=not-callable\u001b[0m\u001b[0;34m\u001b[0m\u001b[0;34m\u001b[0m\u001b[0m\n\u001b[0m\u001b[1;32m    918\u001b[0m     \u001b[0;32melif\u001b[0m \u001b[0mself\u001b[0m\u001b[0;34m.\u001b[0m\u001b[0m_stateful_fn\u001b[0m \u001b[0;32mis\u001b[0m \u001b[0;32mnot\u001b[0m \u001b[0;32mNone\u001b[0m\u001b[0;34m:\u001b[0m\u001b[0;34m\u001b[0m\u001b[0;34m\u001b[0m\u001b[0m\n\u001b[1;32m    919\u001b[0m       \u001b[0;31m# Release the lock early so that multiple threads can perform the call\u001b[0m\u001b[0;34m\u001b[0m\u001b[0;34m\u001b[0m\u001b[0;34m\u001b[0m\u001b[0m\n",
            "\u001b[0;32m/usr/local/lib/python3.7/dist-packages/tensorflow/python/eager/function.py\u001b[0m in \u001b[0;36m__call__\u001b[0;34m(self, *args, **kwargs)\u001b[0m\n\u001b[1;32m   3022\u001b[0m        filtered_flat_args) = self._maybe_define_function(args, kwargs)\n\u001b[1;32m   3023\u001b[0m     return graph_function._call_flat(\n\u001b[0;32m-> 3024\u001b[0;31m         filtered_flat_args, captured_inputs=graph_function.captured_inputs)  # pylint: disable=protected-access\n\u001b[0m\u001b[1;32m   3025\u001b[0m \u001b[0;34m\u001b[0m\u001b[0m\n\u001b[1;32m   3026\u001b[0m   \u001b[0;34m@\u001b[0m\u001b[0mproperty\u001b[0m\u001b[0;34m\u001b[0m\u001b[0;34m\u001b[0m\u001b[0m\n",
            "\u001b[0;32m/usr/local/lib/python3.7/dist-packages/tensorflow/python/eager/function.py\u001b[0m in \u001b[0;36m_call_flat\u001b[0;34m(self, args, captured_inputs, cancellation_manager)\u001b[0m\n\u001b[1;32m   1959\u001b[0m       \u001b[0;31m# No tape is watching; skip to running the function.\u001b[0m\u001b[0;34m\u001b[0m\u001b[0;34m\u001b[0m\u001b[0;34m\u001b[0m\u001b[0m\n\u001b[1;32m   1960\u001b[0m       return self._build_call_outputs(self._inference_function.call(\n\u001b[0;32m-> 1961\u001b[0;31m           ctx, args, cancellation_manager=cancellation_manager))\n\u001b[0m\u001b[1;32m   1962\u001b[0m     forward_backward = self._select_forward_and_backward_functions(\n\u001b[1;32m   1963\u001b[0m         \u001b[0margs\u001b[0m\u001b[0;34m,\u001b[0m\u001b[0;34m\u001b[0m\u001b[0;34m\u001b[0m\u001b[0m\n",
            "\u001b[0;32m/usr/local/lib/python3.7/dist-packages/tensorflow/python/eager/function.py\u001b[0m in \u001b[0;36mcall\u001b[0;34m(self, ctx, args, cancellation_manager)\u001b[0m\n\u001b[1;32m    594\u001b[0m               \u001b[0minputs\u001b[0m\u001b[0;34m=\u001b[0m\u001b[0margs\u001b[0m\u001b[0;34m,\u001b[0m\u001b[0;34m\u001b[0m\u001b[0;34m\u001b[0m\u001b[0m\n\u001b[1;32m    595\u001b[0m               \u001b[0mattrs\u001b[0m\u001b[0;34m=\u001b[0m\u001b[0mattrs\u001b[0m\u001b[0;34m,\u001b[0m\u001b[0;34m\u001b[0m\u001b[0;34m\u001b[0m\u001b[0m\n\u001b[0;32m--> 596\u001b[0;31m               ctx=ctx)\n\u001b[0m\u001b[1;32m    597\u001b[0m         \u001b[0;32melse\u001b[0m\u001b[0;34m:\u001b[0m\u001b[0;34m\u001b[0m\u001b[0;34m\u001b[0m\u001b[0m\n\u001b[1;32m    598\u001b[0m           outputs = execute.execute_with_cancellation(\n",
            "\u001b[0;32m/usr/local/lib/python3.7/dist-packages/tensorflow/python/eager/execute.py\u001b[0m in \u001b[0;36mquick_execute\u001b[0;34m(op_name, num_outputs, inputs, attrs, ctx, name)\u001b[0m\n\u001b[1;32m     58\u001b[0m     \u001b[0mctx\u001b[0m\u001b[0;34m.\u001b[0m\u001b[0mensure_initialized\u001b[0m\u001b[0;34m(\u001b[0m\u001b[0;34m)\u001b[0m\u001b[0;34m\u001b[0m\u001b[0;34m\u001b[0m\u001b[0m\n\u001b[1;32m     59\u001b[0m     tensors = pywrap_tfe.TFE_Py_Execute(ctx._handle, device_name, op_name,\n\u001b[0;32m---> 60\u001b[0;31m                                         inputs, attrs, num_outputs)\n\u001b[0m\u001b[1;32m     61\u001b[0m   \u001b[0;32mexcept\u001b[0m \u001b[0mcore\u001b[0m\u001b[0;34m.\u001b[0m\u001b[0m_NotOkStatusException\u001b[0m \u001b[0;32mas\u001b[0m \u001b[0me\u001b[0m\u001b[0;34m:\u001b[0m\u001b[0;34m\u001b[0m\u001b[0;34m\u001b[0m\u001b[0m\n\u001b[1;32m     62\u001b[0m     \u001b[0;32mif\u001b[0m \u001b[0mname\u001b[0m \u001b[0;32mis\u001b[0m \u001b[0;32mnot\u001b[0m \u001b[0;32mNone\u001b[0m\u001b[0;34m:\u001b[0m\u001b[0;34m\u001b[0m\u001b[0;34m\u001b[0m\u001b[0m\n",
            "\u001b[0;31mKeyboardInterrupt\u001b[0m: "
          ]
        }
      ],
      "source": [
        "#Training our Hybrid model using a learning rate annealer (Reduces LR on Plateaus)\n",
        "\n",
        "'''reduce_lr_hybrid = ReduceLROnPlateau(monitor='val_loss', factor=0.3, patience=5, min_lr=1e-6) #patience = 5 and factor = 0.9\n",
        "\n",
        "history_hybrid = model_hybrid.fit(\n",
        "  train_data,\n",
        "  train_labels_reshaped,\n",
        "  batch_size = 32,\n",
        "  epochs=60,\n",
        "  validation_data=(test_data, test_labels_reshaped),\n",
        "  callbacks = [reduce_lr_hybrid]\n",
        ")'''"
      ]
    },
    {
      "cell_type": "markdown",
      "metadata": {
        "id": "mQRD1-9WYDuO"
      },
      "source": [
        "#### ViT Modified Training"
      ]
    },
    {
      "cell_type": "code",
      "execution_count": 56,
      "metadata": {
        "colab": {
          "base_uri": "https://localhost:8080/",
          "height": 438
        },
        "id": "c0mEudkkSOaW",
        "outputId": "16112c7e-4e15-4fb5-9d81-26e5d8596ab6"
      },
      "outputs": [
        {
          "name": "stdout",
          "output_type": "stream",
          "text": [
            "Epoch 1/150\n",
            "4/4 [==============================] - 119s 3s/step - loss: 4.2157 - accuracy: 0.3434 - val_loss: 8.6187 - val_accuracy: 0.4182\n",
            "Epoch 2/150\n",
            "4/4 [==============================] - 1s 369ms/step - loss: 5.1140 - accuracy: 0.3980 - val_loss: 3.6238 - val_accuracy: 0.1455\n",
            "Epoch 3/150\n",
            "4/4 [==============================] - 1s 368ms/step - loss: 1.9251 - accuracy: 0.4323 - val_loss: 0.9162 - val_accuracy: 0.5636\n",
            "Epoch 4/150\n",
            "1/4 [======>.......................] - ETA: 1s - loss: 1.6944 - accuracy: 0.3203"
          ]
        },
        {
          "ename": "KeyboardInterrupt",
          "evalue": "ignored",
          "output_type": "error",
          "traceback": [
            "\u001b[0;31m---------------------------------------------------------------------------\u001b[0m",
            "\u001b[0;31mKeyboardInterrupt\u001b[0m                         Traceback (most recent call last)",
            "\u001b[0;32m<ipython-input-56-46e9affa8f15>\u001b[0m in \u001b[0;36m<module>\u001b[0;34m()\u001b[0m\n\u001b[0;32m----> 1\u001b[0;31m \u001b[0mhistory_exp\u001b[0m \u001b[0;34m=\u001b[0m \u001b[0mrun_experiment\u001b[0m\u001b[0;34m(\u001b[0m\u001b[0mvit_classifier\u001b[0m\u001b[0;34m)\u001b[0m\u001b[0;34m\u001b[0m\u001b[0;34m\u001b[0m\u001b[0m\n\u001b[0m",
            "\u001b[0;32m<ipython-input-54-ac7e21101cb0>\u001b[0m in \u001b[0;36mrun_experiment\u001b[0;34m(model_vit)\u001b[0m\n\u001b[1;32m     56\u001b[0m         \u001b[0mepochs\u001b[0m\u001b[0;34m=\u001b[0m\u001b[0mnum_epochs\u001b[0m\u001b[0;34m,\u001b[0m\u001b[0;34m\u001b[0m\u001b[0;34m\u001b[0m\u001b[0m\n\u001b[1;32m     57\u001b[0m         \u001b[0mvalidation_split\u001b[0m\u001b[0;34m=\u001b[0m\u001b[0;36m0.1\u001b[0m\u001b[0;34m,\u001b[0m\u001b[0;34m\u001b[0m\u001b[0;34m\u001b[0m\u001b[0m\n\u001b[0;32m---> 58\u001b[0;31m         \u001b[0mcallbacks\u001b[0m\u001b[0;34m=\u001b[0m\u001b[0;34m[\u001b[0m\u001b[0mcheckpoint_callback\u001b[0m\u001b[0;34m,\u001b[0m \u001b[0mreduce_lr_exp\u001b[0m\u001b[0;34m]\u001b[0m\u001b[0;34m,\u001b[0m\u001b[0;34m\u001b[0m\u001b[0;34m\u001b[0m\u001b[0m\n\u001b[0m\u001b[1;32m     59\u001b[0m     )\n\u001b[1;32m     60\u001b[0m \u001b[0;34m\u001b[0m\u001b[0m\n",
            "\u001b[0;32m/usr/local/lib/python3.7/dist-packages/tensorflow/python/keras/engine/training.py\u001b[0m in \u001b[0;36mfit\u001b[0;34m(self, x, y, batch_size, epochs, verbose, callbacks, validation_split, validation_data, shuffle, class_weight, sample_weight, initial_epoch, steps_per_epoch, validation_steps, validation_batch_size, validation_freq, max_queue_size, workers, use_multiprocessing)\u001b[0m\n\u001b[1;32m   1181\u001b[0m                 _r=1):\n\u001b[1;32m   1182\u001b[0m               \u001b[0mcallbacks\u001b[0m\u001b[0;34m.\u001b[0m\u001b[0mon_train_batch_begin\u001b[0m\u001b[0;34m(\u001b[0m\u001b[0mstep\u001b[0m\u001b[0;34m)\u001b[0m\u001b[0;34m\u001b[0m\u001b[0;34m\u001b[0m\u001b[0m\n\u001b[0;32m-> 1183\u001b[0;31m               \u001b[0mtmp_logs\u001b[0m \u001b[0;34m=\u001b[0m \u001b[0mself\u001b[0m\u001b[0;34m.\u001b[0m\u001b[0mtrain_function\u001b[0m\u001b[0;34m(\u001b[0m\u001b[0miterator\u001b[0m\u001b[0;34m)\u001b[0m\u001b[0;34m\u001b[0m\u001b[0;34m\u001b[0m\u001b[0m\n\u001b[0m\u001b[1;32m   1184\u001b[0m               \u001b[0;32mif\u001b[0m \u001b[0mdata_handler\u001b[0m\u001b[0;34m.\u001b[0m\u001b[0mshould_sync\u001b[0m\u001b[0;34m:\u001b[0m\u001b[0;34m\u001b[0m\u001b[0;34m\u001b[0m\u001b[0m\n\u001b[1;32m   1185\u001b[0m                 \u001b[0mcontext\u001b[0m\u001b[0;34m.\u001b[0m\u001b[0masync_wait\u001b[0m\u001b[0;34m(\u001b[0m\u001b[0;34m)\u001b[0m\u001b[0;34m\u001b[0m\u001b[0;34m\u001b[0m\u001b[0m\n",
            "\u001b[0;32m/usr/local/lib/python3.7/dist-packages/tensorflow/python/eager/def_function.py\u001b[0m in \u001b[0;36m__call__\u001b[0;34m(self, *args, **kwds)\u001b[0m\n\u001b[1;32m    887\u001b[0m \u001b[0;34m\u001b[0m\u001b[0m\n\u001b[1;32m    888\u001b[0m       \u001b[0;32mwith\u001b[0m \u001b[0mOptionalXlaContext\u001b[0m\u001b[0;34m(\u001b[0m\u001b[0mself\u001b[0m\u001b[0;34m.\u001b[0m\u001b[0m_jit_compile\u001b[0m\u001b[0;34m)\u001b[0m\u001b[0;34m:\u001b[0m\u001b[0;34m\u001b[0m\u001b[0;34m\u001b[0m\u001b[0m\n\u001b[0;32m--> 889\u001b[0;31m         \u001b[0mresult\u001b[0m \u001b[0;34m=\u001b[0m \u001b[0mself\u001b[0m\u001b[0;34m.\u001b[0m\u001b[0m_call\u001b[0m\u001b[0;34m(\u001b[0m\u001b[0;34m*\u001b[0m\u001b[0margs\u001b[0m\u001b[0;34m,\u001b[0m \u001b[0;34m**\u001b[0m\u001b[0mkwds\u001b[0m\u001b[0;34m)\u001b[0m\u001b[0;34m\u001b[0m\u001b[0;34m\u001b[0m\u001b[0m\n\u001b[0m\u001b[1;32m    890\u001b[0m \u001b[0;34m\u001b[0m\u001b[0m\n\u001b[1;32m    891\u001b[0m       \u001b[0mnew_tracing_count\u001b[0m \u001b[0;34m=\u001b[0m \u001b[0mself\u001b[0m\u001b[0;34m.\u001b[0m\u001b[0mexperimental_get_tracing_count\u001b[0m\u001b[0;34m(\u001b[0m\u001b[0;34m)\u001b[0m\u001b[0;34m\u001b[0m\u001b[0;34m\u001b[0m\u001b[0m\n",
            "\u001b[0;32m/usr/local/lib/python3.7/dist-packages/tensorflow/python/eager/def_function.py\u001b[0m in \u001b[0;36m_call\u001b[0;34m(self, *args, **kwds)\u001b[0m\n\u001b[1;32m    915\u001b[0m       \u001b[0;31m# In this case we have created variables on the first call, so we run the\u001b[0m\u001b[0;34m\u001b[0m\u001b[0;34m\u001b[0m\u001b[0;34m\u001b[0m\u001b[0m\n\u001b[1;32m    916\u001b[0m       \u001b[0;31m# defunned version which is guaranteed to never create variables.\u001b[0m\u001b[0;34m\u001b[0m\u001b[0;34m\u001b[0m\u001b[0;34m\u001b[0m\u001b[0m\n\u001b[0;32m--> 917\u001b[0;31m       \u001b[0;32mreturn\u001b[0m \u001b[0mself\u001b[0m\u001b[0;34m.\u001b[0m\u001b[0m_stateless_fn\u001b[0m\u001b[0;34m(\u001b[0m\u001b[0;34m*\u001b[0m\u001b[0margs\u001b[0m\u001b[0;34m,\u001b[0m \u001b[0;34m**\u001b[0m\u001b[0mkwds\u001b[0m\u001b[0;34m)\u001b[0m  \u001b[0;31m# pylint: disable=not-callable\u001b[0m\u001b[0;34m\u001b[0m\u001b[0;34m\u001b[0m\u001b[0m\n\u001b[0m\u001b[1;32m    918\u001b[0m     \u001b[0;32melif\u001b[0m \u001b[0mself\u001b[0m\u001b[0;34m.\u001b[0m\u001b[0m_stateful_fn\u001b[0m \u001b[0;32mis\u001b[0m \u001b[0;32mnot\u001b[0m \u001b[0;32mNone\u001b[0m\u001b[0;34m:\u001b[0m\u001b[0;34m\u001b[0m\u001b[0;34m\u001b[0m\u001b[0m\n\u001b[1;32m    919\u001b[0m       \u001b[0;31m# Release the lock early so that multiple threads can perform the call\u001b[0m\u001b[0;34m\u001b[0m\u001b[0;34m\u001b[0m\u001b[0;34m\u001b[0m\u001b[0m\n",
            "\u001b[0;32m/usr/local/lib/python3.7/dist-packages/tensorflow/python/eager/function.py\u001b[0m in \u001b[0;36m__call__\u001b[0;34m(self, *args, **kwargs)\u001b[0m\n\u001b[1;32m   3022\u001b[0m        filtered_flat_args) = self._maybe_define_function(args, kwargs)\n\u001b[1;32m   3023\u001b[0m     return graph_function._call_flat(\n\u001b[0;32m-> 3024\u001b[0;31m         filtered_flat_args, captured_inputs=graph_function.captured_inputs)  # pylint: disable=protected-access\n\u001b[0m\u001b[1;32m   3025\u001b[0m \u001b[0;34m\u001b[0m\u001b[0m\n\u001b[1;32m   3026\u001b[0m   \u001b[0;34m@\u001b[0m\u001b[0mproperty\u001b[0m\u001b[0;34m\u001b[0m\u001b[0;34m\u001b[0m\u001b[0m\n",
            "\u001b[0;32m/usr/local/lib/python3.7/dist-packages/tensorflow/python/eager/function.py\u001b[0m in \u001b[0;36m_call_flat\u001b[0;34m(self, args, captured_inputs, cancellation_manager)\u001b[0m\n\u001b[1;32m   1959\u001b[0m       \u001b[0;31m# No tape is watching; skip to running the function.\u001b[0m\u001b[0;34m\u001b[0m\u001b[0;34m\u001b[0m\u001b[0;34m\u001b[0m\u001b[0m\n\u001b[1;32m   1960\u001b[0m       return self._build_call_outputs(self._inference_function.call(\n\u001b[0;32m-> 1961\u001b[0;31m           ctx, args, cancellation_manager=cancellation_manager))\n\u001b[0m\u001b[1;32m   1962\u001b[0m     forward_backward = self._select_forward_and_backward_functions(\n\u001b[1;32m   1963\u001b[0m         \u001b[0margs\u001b[0m\u001b[0;34m,\u001b[0m\u001b[0;34m\u001b[0m\u001b[0;34m\u001b[0m\u001b[0m\n",
            "\u001b[0;32m/usr/local/lib/python3.7/dist-packages/tensorflow/python/eager/function.py\u001b[0m in \u001b[0;36mcall\u001b[0;34m(self, ctx, args, cancellation_manager)\u001b[0m\n\u001b[1;32m    594\u001b[0m               \u001b[0minputs\u001b[0m\u001b[0;34m=\u001b[0m\u001b[0margs\u001b[0m\u001b[0;34m,\u001b[0m\u001b[0;34m\u001b[0m\u001b[0;34m\u001b[0m\u001b[0m\n\u001b[1;32m    595\u001b[0m               \u001b[0mattrs\u001b[0m\u001b[0;34m=\u001b[0m\u001b[0mattrs\u001b[0m\u001b[0;34m,\u001b[0m\u001b[0;34m\u001b[0m\u001b[0;34m\u001b[0m\u001b[0m\n\u001b[0;32m--> 596\u001b[0;31m               ctx=ctx)\n\u001b[0m\u001b[1;32m    597\u001b[0m         \u001b[0;32melse\u001b[0m\u001b[0;34m:\u001b[0m\u001b[0;34m\u001b[0m\u001b[0;34m\u001b[0m\u001b[0m\n\u001b[1;32m    598\u001b[0m           outputs = execute.execute_with_cancellation(\n",
            "\u001b[0;32m/usr/local/lib/python3.7/dist-packages/tensorflow/python/eager/execute.py\u001b[0m in \u001b[0;36mquick_execute\u001b[0;34m(op_name, num_outputs, inputs, attrs, ctx, name)\u001b[0m\n\u001b[1;32m     58\u001b[0m     \u001b[0mctx\u001b[0m\u001b[0;34m.\u001b[0m\u001b[0mensure_initialized\u001b[0m\u001b[0;34m(\u001b[0m\u001b[0;34m)\u001b[0m\u001b[0;34m\u001b[0m\u001b[0;34m\u001b[0m\u001b[0m\n\u001b[1;32m     59\u001b[0m     tensors = pywrap_tfe.TFE_Py_Execute(ctx._handle, device_name, op_name,\n\u001b[0;32m---> 60\u001b[0;31m                                         inputs, attrs, num_outputs)\n\u001b[0m\u001b[1;32m     61\u001b[0m   \u001b[0;32mexcept\u001b[0m \u001b[0mcore\u001b[0m\u001b[0;34m.\u001b[0m\u001b[0m_NotOkStatusException\u001b[0m \u001b[0;32mas\u001b[0m \u001b[0me\u001b[0m\u001b[0;34m:\u001b[0m\u001b[0;34m\u001b[0m\u001b[0;34m\u001b[0m\u001b[0m\n\u001b[1;32m     62\u001b[0m     \u001b[0;32mif\u001b[0m \u001b[0mname\u001b[0m \u001b[0;32mis\u001b[0m \u001b[0;32mnot\u001b[0m \u001b[0;32mNone\u001b[0m\u001b[0;34m:\u001b[0m\u001b[0;34m\u001b[0m\u001b[0;34m\u001b[0m\u001b[0m\n",
            "\u001b[0;31mKeyboardInterrupt\u001b[0m: "
          ]
        }
      ],
      "source": [
        "'''history_exp = run_experiment(vit_classifier)'''"
      ]
    },
    {
      "cell_type": "markdown",
      "metadata": {
        "id": "rid7DGDU9lMe"
      },
      "source": [
        "## Saving and Loading models"
      ]
    },
    {
      "cell_type": "code",
      "execution_count": 57,
      "metadata": {
        "id": "UX-0sd2i9prU"
      },
      "outputs": [],
      "source": [
        "#NOTE: Loading pretrained models should only be done when the same data distribution (as shuffle is on) is also loaded otherwise you will get inflated results\n",
        "model.load_weights(\"/content/drive/MyDrive/Colab Notebooks/cnn_best.h5\")\n",
        "\n",
        "'''model_rnn.load_weights(\"/content/drive/MyDrive/Colab Notebooks/rnn_best.h5\")\n",
        "model_hybrid.load_weights(\"/content/drive/MyDrive/Colab Notebooks/hybrid_best.h5\")\n",
        "vit_classifier.load_weights(\"/content/drive/MyDrive/Colab Notebooks/vit_best.h5\")'''"
      ]
    },
    {
      "cell_type": "markdown",
      "metadata": {
        "id": "QozTtxiq4POU"
      },
      "source": [
        "## Results"
      ]
    },
    {
      "cell_type": "markdown",
      "metadata": {
        "id": "U3uRq7xDYb-S"
      },
      "source": [
        "#### Diagrams"
      ]
    },
    {
      "cell_type": "code",
      "execution_count": null,
      "metadata": {
        "id": "L93Th_aUXAK9"
      },
      "outputs": [],
      "source": [
        "import matplotlib.pyplot as plt\n",
        "\n",
        "epochs = len(history.history['loss'])\n",
        "epochs_rnn = len(history_rnn.history['accuracy'])\n",
        "epochs_hybrid = len(history_hybrid.history['accuracy'])\n",
        "epochs_exp = len(history_exp.history['accuracy'])\n",
        "\n",
        "\n",
        "plt.rcParams[\"figure.figsize\"] = (30,10)\n",
        "fig, a = plt.subplots(3, 4, squeeze= False)\n",
        "\n",
        "#plt.figure(1)\n",
        "a[0][0].plot(range(0,epochs), history.history['val_accuracy'], 'r', label = 'Test Accuracy')\n",
        "a[0][0].plot(range(0,epochs), history.history['accuracy'], 'y', label = 'Train Accuracy')\n",
        "a[0][0].set_title('Accuracy CNN')\n",
        "a[0][0].set_xlabel('Epochs')\n",
        "a[0][0].set_ylabel('Accuracy')\n",
        "a[0][0].legend()\n",
        "#plt.show()\n",
        "\n",
        "'''\n",
        "#plt.figure(2)\n",
        "a[0][1].plot(range(0,epochs_rnn), history_rnn.history['val_accuracy'], 'r', label = 'Test Accuracy')\n",
        "a[0][1].plot(range(0,epochs_rnn), history_rnn.history['accuracy'], 'y', label = 'Train Accuracy')\n",
        "a[0][1].set_title('Accuracy RNN')\n",
        "a[0][1].set_xlabel('Epochs')\n",
        "a[0][1].set_ylabel('Accuracy')\n",
        "a[0][1].legend()\n",
        "\n",
        "#plt.figure(3)\n",
        "a[0][2].plot(range(0,epochs_hybrid), history_hybrid.history['val_accuracy'], 'r', label = 'Test Accuracy')\n",
        "a[0][2].plot(range(0,epochs_hybrid), history_hybrid.history['accuracy'], 'y', label = 'Train Accuracy')\n",
        "a[0][2].set_title('Accuracy Hybrid')\n",
        "a[0][2].set_xlabel('Epochs')\n",
        "a[0][2].set_ylabel('Accuracy')\n",
        "a[0][2].legend()\n",
        "\n",
        "a[0][3].plot(range(0,epochs_exp), history_exp.history['val_accuracy'], 'r', label = 'Test Accuracy')\n",
        "a[0][3].plot(range(0,epochs_exp), history_exp.history['accuracy'], 'y', label = 'Train Accuracy')\n",
        "a[0][3].set_title('Accuracy ViT')\n",
        "a[0][3].set_xlabel('Epochs')\n",
        "a[0][3].set_ylabel('Accuracy')\n",
        "a[0][3].legend()\n",
        "'''\n",
        "\n",
        "#plt.figure(1)\n",
        "a[1][0].plot(range(0,epochs - 40), history.history['val_loss'][0:60], 'r', label = 'Test Loss')\n",
        "a[1][0].plot(range(0,epochs - 40), history.history['loss'][0:60], 'y', label = 'Train Loss')\n",
        "a[1][0].set_title('Loss CNN')\n",
        "a[1][0].set_xlabel('Epochs')\n",
        "a[1][0].set_ylabel('Loss')\n",
        "a[1][0].legend()\n",
        "#plt.show()\n",
        "\n",
        "'''\n",
        "#plt.figure(2)\n",
        "a[1][1].plot(range(0,epochs_rnn), history_rnn.history['val_loss'], 'r', label = 'Test Loss')\n",
        "a[1][1].plot(range(0,epochs_rnn), history_rnn.history['loss'], 'y', label = 'Train Loss')\n",
        "a[1][1].set_title('Loss RNN')\n",
        "a[1][1].set_xlabel('Epochs')\n",
        "a[1][1].set_ylabel('Loss')\n",
        "a[1][1].legend()\n",
        "\n",
        "#plt.figure(3)\n",
        "a[1][2].plot(range(0,epochs_hybrid), history_hybrid.history['val_loss'], 'r', label = 'Test Loss')\n",
        "a[1][2].plot(range(0,epochs_hybrid), history_hybrid.history['loss'], 'y', label = 'Train Loss')\n",
        "a[1][2].set_title('Loss Hybrid')\n",
        "a[1][2].set_xlabel('Epochs')\n",
        "a[1][2].set_ylabel('Loss')\n",
        "a[1][2].legend()\n",
        "\n",
        "a[1][3].plot(range(0,epochs_exp), history_exp.history['val_loss'], 'r', label = 'Test Loss')\n",
        "a[1][3].plot(range(0,epochs_exp), history_exp.history['loss'], 'y', label = 'Train Loss')\n",
        "a[1][3].set_title('Loss ViT')\n",
        "a[1][3].set_xlabel('Epochs')\n",
        "a[1][3].set_ylabel('Loss')\n",
        "a[1][3].legend()\n",
        "'''\n",
        "\n",
        "#plt.figure(1)\n",
        "a[2][0].plot(range(0,epochs - 40), history.history['lr'][0:60], 'r', label = 'Test Learning rate')\n",
        "a[2][0].set_title('Learning rate CNN')\n",
        "a[2][0].set_xlabel('Epochs')\n",
        "a[2][0].set_ylabel('Learning rate')\n",
        "a[2][0].legend()\n",
        "#plt.show()\n",
        "\n",
        "'''\n",
        "#plt.figure(2)\n",
        "a[2][1].plot(range(0,epochs_rnn), history_rnn.history['lr'], 'r', label = 'Test Learning rate')\n",
        "a[2][1].set_title('Learning rate RNN')\n",
        "a[2][1].set_xlabel('Epochs')\n",
        "a[2][1].set_ylabel('Learning rate')\n",
        "a[2][1].legend()\n",
        "\n",
        "#plt.figure(3)\n",
        "a[2][2].plot(range(0,epochs_hybrid), history_hybrid.history['lr'], 'r', label = 'Test Learning rate')\n",
        "a[2][2].set_title('Learning rate Hybrid')\n",
        "a[2][2].set_xlabel('Epochs')\n",
        "a[2][2].set_ylabel('Learning rate')\n",
        "a[2][2].legend()\n",
        "\n",
        "a[2][3].plot(range(0,epochs_exp), history_exp.history['lr'], 'r', label = 'Test Learning rate')\n",
        "a[2][3].set_title('Learning rate ViT')\n",
        "a[2][3].set_xlabel('Epochs')\n",
        "a[2][3].set_ylabel('Learning rate')\n",
        "a[2][3].legend()\n",
        "#plt.savefig('LR.eps', format='eps')\n",
        "'''\n",
        "\n",
        "plt.show()"
      ]
    },
    {
      "cell_type": "markdown",
      "metadata": {
        "id": "8Jvm74kRYewB"
      },
      "source": [
        "#### Metrics "
      ]
    },
    {
      "cell_type": "code",
      "execution_count": 58,
      "metadata": {
        "colab": {
          "base_uri": "https://localhost:8080/"
        },
        "id": "PTJHOO5MXVlt",
        "outputId": "ed1a410b-2cf9-4d8e-f04b-d2fc14ebba96"
      },
      "outputs": [
        {
          "name": "stdout",
          "output_type": "stream",
          "text": [
            "3/3 [==============================] - 2s 314ms/step - loss: 0.0902 - accuracy: 0.9600 - root_mean_squared_error: 0.1341\n",
            "3/3 [==============================] - 0s 88ms/step - loss: 0.2657 - accuracy: 0.8667 - root_mean_squared_error: 0.2352\n",
            "3/3 [==============================] - 1s 449ms/step - loss: 0.1072 - accuracy: 0.9600 - root_mean_squared_error: 0.1361\n",
            "3/3 [==============================] - 1s 198ms/step - loss: 0.0532 - accuracy: 0.9867\n",
            "\n",
            "\n",
            "Accuracy of CNN: 0.9599999785423279\n",
            "Accuracy of RNN: 0.8666666746139526\n",
            "Accuracy of Hybrid Model: 0.9599999785423279\n",
            "Accuracy ViT: 0.9866666793823242\n",
            "Accuracy Ensemble: 0.9466666666666667\n",
            "\n",
            "\n",
            "Confusion Matrix CNN: \n",
            "[[25  1  0]\n",
            " [ 1 28  0]\n",
            " [ 0  1 19]]\n",
            "Confusion Matrix RNN: \n",
            "[[24  2  0]\n",
            " [ 3 26  0]\n",
            " [ 0  5 15]]\n",
            "Confusion Matrix Hybrid: \n",
            "[[25  1  0]\n",
            " [ 1 28  0]\n",
            " [ 0  1 19]]\n",
            "Confusion Matrix ViT: \n",
            "[[25  1  0]\n",
            " [ 0 29  0]\n",
            " [ 0  0 20]]\n",
            "Confusion Matrix Ensemble: \n",
            "[[25  1  0]\n",
            " [ 1 28  0]\n",
            " [ 0  2 18]]\n",
            "\n",
            "\n",
            "Classification Report CNN: \n",
            "              precision    recall  f1-score   support\n",
            "\n",
            "           2       0.96      0.96      0.96        26\n",
            "           0       0.93      0.97      0.95        29\n",
            "           1       1.00      0.95      0.97        20\n",
            "\n",
            "    accuracy                           0.96        75\n",
            "   macro avg       0.96      0.96      0.96        75\n",
            "weighted avg       0.96      0.96      0.96        75\n",
            "\n",
            "Classification Report RNN: \n",
            "              precision    recall  f1-score   support\n",
            "\n",
            "           2       0.89      0.92      0.91        26\n",
            "           0       0.79      0.90      0.84        29\n",
            "           1       1.00      0.75      0.86        20\n",
            "\n",
            "    accuracy                           0.87        75\n",
            "   macro avg       0.89      0.86      0.87        75\n",
            "weighted avg       0.88      0.87      0.87        75\n",
            "\n",
            "Classification Report Hybrid: \n",
            "              precision    recall  f1-score   support\n",
            "\n",
            "           2       0.96      0.96      0.96        26\n",
            "           0       0.93      0.97      0.95        29\n",
            "           1       1.00      0.95      0.97        20\n",
            "\n",
            "    accuracy                           0.96        75\n",
            "   macro avg       0.96      0.96      0.96        75\n",
            "weighted avg       0.96      0.96      0.96        75\n",
            "\n",
            "Classification Report ViT: \n",
            "              precision    recall  f1-score   support\n",
            "\n",
            "           2       1.00      0.96      0.98        26\n",
            "           0       0.97      1.00      0.98        29\n",
            "           1       1.00      1.00      1.00        20\n",
            "\n",
            "    accuracy                           0.99        75\n",
            "   macro avg       0.99      0.99      0.99        75\n",
            "weighted avg       0.99      0.99      0.99        75\n",
            "\n",
            "Classification Report Ensemble: \n",
            "              precision    recall  f1-score   support\n",
            "\n",
            "           2       0.96      0.96      0.96        26\n",
            "           0       0.90      0.97      0.93        29\n",
            "           1       1.00      0.90      0.95        20\n",
            "\n",
            "    accuracy                           0.95        75\n",
            "   macro avg       0.95      0.94      0.95        75\n",
            "weighted avg       0.95      0.95      0.95        75\n",
            "\n",
            "MCC CNN: 0.9394301519446048\n",
            " MCC RNN: 0.8001195207590139\n",
            " MCC Hybrid: 0.9394301519446048\n",
            " MCC ViT: 0.9800221697297974\n",
            " MCC Ensemble: 0.9197125293498323\n"
          ]
        }
      ],
      "source": [
        "#Calculating Metrics, Confusion Matrices and Classification Reports\n",
        "his = model.evaluate(x= final_test, y = final_labels_reshaped)\n",
        "accuracy = his[1]\n",
        "final_preds = np.empty([3, 75])\n",
        "pred_labels = np.argmax(model.predict(final_test), axis=-1)\n",
        "\n",
        "'''\n",
        "final_rnn_test = final_test.reshape(75, 62, -1)\n",
        "final_rnn_test = np.transpose(final_rnn_test, (0,2,1))\n",
        "\n",
        "his_rnn = model_rnn.evaluate(x= final_rnn_test, y = final_labels_reshaped)\n",
        "accuracy_rnn = his_rnn[1]\n",
        "pred_labels_rnn = np.argmax(model_rnn.predict(final_rnn_test), axis=-1)\n",
        "\n",
        "\n",
        "his_hybrid = model_hybrid.evaluate(x= final_test, y = final_labels_reshaped)\n",
        "accuracy_hybrid = his_hybrid[1]\n",
        "pred_labels_hybrid = np.argmax(model_hybrid.predict(final_test), axis=-1)\n",
        "\n",
        "his_exp = vit_classifier.evaluate(x= final_test, y= final_labels_reshaped)\n",
        "accuracy_exp = his_exp[1]\n",
        "pred_labels_exp = np.argmax(vit_classifier.predict(final_test), axis=-1)\n",
        "'''\n",
        "\n",
        "final_preds[0,:] = pred_labels\n",
        "'''\n",
        "final_preds[1,:] = pred_labels_rnn\n",
        "final_preds[2,:] = pred_labels_hybrid\n",
        "#final_preds[1,:] = pred_labels_exp\n",
        "'''\n",
        "\n",
        "#Implementing Ensemble\n",
        "\n",
        "'''ensemble_predictions = []\n",
        "itr = 0\n",
        "for i in range (0,75):\n",
        "  itr += 1\n",
        "  unique, counts = np.unique(final_preds[:,i], return_counts=True)\n",
        "  if len(unique) == 3:\n",
        "    ensemble_predictions.append(int(final_preds[1,i]))\n",
        "  else:\n",
        "    max = np.max(counts)\n",
        "    index = np.unravel_index(np.argmax(counts), counts.shape)\n",
        "    pred = unique[index]\n",
        "    ensemble_predictions.append(int(pred))\n",
        "\n",
        "accuracy_ensemble = sklearn.metrics.accuracy_score(cf_labels, ensemble_predictions)\n",
        "'''\n",
        "\n",
        "cf_cnn = sklearn.metrics.confusion_matrix(cf_labels, pred_labels, labels = [2,0,1])\n",
        "'''cf_rnn = sklearn.metrics.confusion_matrix(cf_labels, pred_labels_rnn, labels = [2,0,1])\n",
        "cf_hybrid = sklearn.metrics.confusion_matrix(cf_labels, pred_labels_hybrid, labels = [2,0,1])\n",
        "cf_exp = sklearn.metrics.confusion_matrix(cf_labels, pred_labels_exp, labels = [2,0,1])\n",
        "cf_ensemble = sklearn.metrics.confusion_matrix(cf_labels, ensemble_predictions, labels = [2,0,1])\n",
        "cf = sklearn.metrics.confusion_matrix(cf_labels, pred_labels, labels= [2,0,1])\n",
        "'''\n",
        "cr = sklearn.metrics.classification_report(cf_labels, pred_labels, labels= [2,0,1])\n",
        "'''cr_rnn = sklearn.metrics.classification_report(cf_labels, pred_labels_rnn, labels= [2,0,1])\n",
        "cr_hybrid = sklearn.metrics.classification_report(cf_labels, pred_labels_hybrid, labels= [2,0,1])\n",
        "cr_exp = sklearn.metrics.classification_report(cf_labels, pred_labels_exp, labels = [2,0,1])\n",
        "cr_ensemble = sklearn.metrics.classification_report(cf_labels, ensemble_predictions, labels= [2,0,1])\n",
        "'''\n",
        "mcc = sklearn.metrics.matthews_corrcoef(cf_labels, pred_labels)\n",
        "'''mcc_rnn = sklearn.metrics.matthews_corrcoef(cf_labels, pred_labels_rnn)\n",
        "mcc_hybrid = sklearn.metrics.matthews_corrcoef(cf_labels, pred_labels_hybrid)\n",
        "mcc_ensemble = sklearn.metrics.matthews_corrcoef(cf_labels, ensemble_predictions) \n",
        "mcc_exp = sklearn.metrics.matthews_corrcoef(cf_labels, pred_labels_exp)\n",
        "'''\n",
        "\n",
        "print(\"\\n\", \"Accuracy of CNN: \" + str(accuracy))\n",
        "print(f'MCC CNN: {mcc}\\n')\n",
        "\n",
        "#print(\"\\n\", \"Accuracy of CNN: \" + str(accuracy), \"Accuracy of RNN: \" + str(accuracy_rnn), \"Accuracy of Hybrid Model: \" + str(accuracy_hybrid), \"Accuracy ViT: \" + str(accuracy_exp), \"Accuracy Ensemble: \" + str(accuracy_ensemble), \"\\n\", \"Confusion Matrix CNN: \", str(cf), \"Confusion Matrix RNN: \", str(cf_rnn), \"Confusion Matrix Hybrid: \", str(cf_hybrid), \"Confusion Matrix ViT: \", str(cf_exp), \"Confusion Matrix Ensemble: \", str(cf_ensemble), \"\\n\", \"Classification Report CNN: \", str(cr), \"Classification Report RNN: \", str(cr_rnn),  \"Classification Report Hybrid: \", str(cr_hybrid), \"Classification Report ViT: \", str(cr_exp), \"Classification Report Ensemble: \", str(cr_ensemble), sep= '\\n')\n",
        "#print(f'MCC CNN: {mcc}\\n MCC RNN: {mcc_rnn}\\n MCC Hybrid: {mcc_hybrid}\\n MCC ViT: {mcc_exp}\\n MCC Ensemble: {mcc_ensemble}')\n",
        "\n",
        "\n",
        "#Use below code to save model and weights permanently\n",
        "\n",
        "\n",
        "# with open('/content/drive/MyDrive/Colab Notebooks/best_cnn_data.npy', 'wb') as f:\n",
        "#     np.save(f, data)\n",
        "#     np.save(f, train_data)\n",
        "#     np.save(f, test_data)\n",
        "#     np.save(f, final_test)\n",
        "# with open('/content/drive/MyDrive/Colab Notebooks/best_cnn_data.npy', 'rb') as f:\n",
        "#     a = np.load(f)\n",
        "#     b = np.load(f)\n",
        "#     c = np.load(f)\n",
        "#     d = np.load(f)\n",
        "# print(np.testing.assert_allclose(d, final_test, err_msg= \"FAIL\"))\n",
        "\n",
        "# model_json = model.to_json()\n",
        "# with open(\"/content/drive/MyDrive/Colab Notebooks/cnn_best.json\", \"w\") as json_file:\n",
        "#     json_file.write(model_json)\n",
        "# # serialize weights to HDF5\n",
        "# model.save_weights(\"/content/drive/MyDrive/Colab Notebooks/cnn_best.h5\")\n",
        "# print(\"Saved model to disk\")\n",
        "\n",
        "# # load json and create model\n",
        "# json_file = open('/content/drive/MyDrive/Colab Notebooks/ensemble_best.json', 'r')\n",
        "# loaded_model_json = json_file.read()\n",
        "# json_file.close()\n",
        "# loaded_model = tf.keras.models.model_from_json(loaded_model_json)\n",
        "# # load weights into new model\n",
        "# loaded_model.load_weights(\"/content/drive/MyDrive/Colab Notebooks/ensemble_best.h5\")\n",
        "# print(\"Loaded model from disk\")\n",
        "\n",
        "# loaded_model.compile(optimizer= keras.optimizers.Adam(learning_rate=1e-4), loss= keras.losses.categorical_crossentropy, metrics= ['accuracy', 'categorical_accuracy', tf.keras.metrics.RootMeanSquaredError()])\n"
      ]
    },
    {
      "cell_type": "markdown",
      "metadata": {
        "id": "GZVu9UgQ5MPl"
      },
      "source": [
        "## Ensemble"
      ]
    },
    {
      "cell_type": "code",
      "execution_count": null,
      "metadata": {
        "id": "FM884CsvnjW-"
      },
      "outputs": [],
      "source": [
        "'''pred = np.argmax(model.predict(train_data), axis=-1)\n",
        "pred_rnn = np.argmax(model_rnn.predict(rnn_train), axis=-1)\n",
        "pred_hybrid = np.argmax(model_hybrid.predict(train_data), axis=-1)\n",
        "inputs = [pred, pred_rnn, pred_hybrid]\n",
        "inputs = np.array(inputs).T\n",
        "\n",
        "pred = np.argmax(model.predict(test_data), axis=-1)\n",
        "pred_rnn = np.argmax(model_rnn.predict(rnn_test), axis=-1)\n",
        "pred_hybrid = np.argmax(model_hybrid.predict(test_data), axis=-1)\n",
        "inputs_test = [pred, pred_rnn, pred_hybrid]\n",
        "inputs_test = np.array(inputs_test).T\n",
        "\n",
        "model_stack = Sequential([\n",
        "  #Input(shape= (3, 550)),\n",
        "  Dense(128, 'relu', input_shape= (3,)),\n",
        "  Dense(256, 'relu'),\n",
        "  Dense(256, 'relu'),\n",
        "  Dense(64, 'relu'),\n",
        "  Dense(3, 'softmax')\n",
        "])\n",
        "\n",
        "model_stack.compile(optimizer= keras.optimizers.Adam(learning_rate=1e-4), loss= keras.losses.categorical_crossentropy, metrics= 'accuracy')\n",
        "\n",
        "model_stack.summary()\n",
        "\n",
        "reduce_lr_stack = ReduceLROnPlateau(monitor='val_loss', factor=0.3, patience=5, min_lr=1e-6) #patience = 5 and factor = 0.9\n",
        "\n",
        "history_stack = model_stack.fit(\n",
        "  inputs,\n",
        "  train_labels_reshaped,\n",
        "  batch_size = 32,\n",
        "  epochs=150,\n",
        "  validation_data=(inputs_test, test_labels_reshaped),\n",
        "  callbacks = [reduce_lr_stack]\n",
        ")\n",
        "'''"
      ]
    },
    {
      "cell_type": "code",
      "execution_count": null,
      "metadata": {
        "id": "cfnZAUvJ3WGD"
      },
      "outputs": [],
      "source": [
        "'''acc = model_stack.evaluate(x= final_preds.T, y= final_labels_reshaped)\n",
        "print(f'Accuracy Ensemble MAX method: {accuracy_ensemble}, Accuracy Ensemble Stack method: {acc[1]}')\n",
        "'''"
      ]
    },
    {
      "cell_type": "code",
      "execution_count": null,
      "metadata": {
        "id": "Dbs4WZW4PsEp"
      },
      "outputs": [],
      "source": [
        "'''cumul[0].append(accuracy)\n",
        "cumul[1].append(accuracy_rnn)\n",
        "cumul[2].append(accuracy_hybrid)\n",
        "cumul[3].append(accuracy_ensemble)\n",
        "cumul[4].append(acc[1])\n",
        "cumul\n",
        "'''"
      ]
    },
    {
      "cell_type": "code",
      "execution_count": null,
      "metadata": {
        "id": "3iTtPm17dvkm"
      },
      "outputs": [],
      "source": [
        "#model_rnn.save('saved_model/rnn_model')\n",
        "#model_hybrid.save('saved_model/hybrid_model')\n",
        "#!zip -r /content/saved_model.zip /content/saved_model"
      ]
    }
  ],
  "metadata": {
    "accelerator": "GPU",
    "colab": {
      "authorship_tag": "ABX9TyMDcSRnOikfUITevQIj8ASO",
      "collapsed_sections": [
        "FyIT6Er83eqi",
        "k_GPwXD_3tHy",
        "RXR6yIkP3yQT",
        "g-6lf5XI33cn",
        "MGZztDn4A8Yk",
        "wWxsDqXH4CXg",
        "zSMSxiHz4F-W",
        "yEmLKU354KHa",
        "mQRD1-9WYDuO",
        "U3uRq7xDYb-S"
      ],
      "mount_file_id": "1sXb_M7i01_pkD4lPouGwYCUh9MkcnEPj",
      "name": "Github_EEG.ipynb",
      "provenance": []
    },
    "kernelspec": {
      "display_name": "ppbEmo",
      "language": "python",
      "name": "python3"
    },
    "language_info": {
      "codemirror_mode": {
        "name": "ipython",
        "version": 3
      },
      "file_extension": ".py",
      "mimetype": "text/x-python",
      "name": "python",
      "nbconvert_exporter": "python",
      "pygments_lexer": "ipython3",
      "version": "3.6.13"
    }
  },
  "nbformat": 4,
  "nbformat_minor": 0
}
